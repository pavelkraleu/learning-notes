{
  "cells": [
    {
      "cell_type": "markdown",
      "metadata": {
        "collapsed": true,
        "pycharm": {
          "is_executing": false,
          "name": "#%% md\n"
        }
      },
      "source": "# Random Python Experiments\n\n## Data Classes\nhttps://realpython.com/python-data-classes/\n"
    },
    {
      "cell_type": "code",
      "execution_count": 3,
      "outputs": [
        {
          "traceback": [
            "\u001b[0;31m---------------------------------------------------------------------------\u001b[0m",
            "\u001b[0;31mModuleNotFoundError\u001b[0m                       Traceback (most recent call last)",
            "\u001b[0;32m\u003cipython-input-3-fbbe877beb99\u003e\u001b[0m in \u001b[0;36m\u003cmodule\u003e\u001b[0;34m\u001b[0m\n\u001b[1;32m      1\u001b[0m \u001b[0;32mfrom\u001b[0m \u001b[0mcollections\u001b[0m \u001b[0;32mimport\u001b[0m \u001b[0mnamedtuple\u001b[0m\u001b[0;34m\u001b[0m\u001b[0;34m\u001b[0m\u001b[0m\n\u001b[0;32m----\u003e 2\u001b[0;31m \u001b[0;32mfrom\u001b[0m \u001b[0mdataclasses\u001b[0m \u001b[0;32mimport\u001b[0m \u001b[0mdataclass\u001b[0m\u001b[0;34m,\u001b[0m \u001b[0mfield\u001b[0m\u001b[0;34m\u001b[0m\u001b[0;34m\u001b[0m\u001b[0m\n\u001b[0m\u001b[1;32m      3\u001b[0m \u001b[0;34m\u001b[0m\u001b[0m\n\u001b[1;32m      4\u001b[0m \u001b[0;34m@\u001b[0m\u001b[0mdataclass\u001b[0m\u001b[0;34m\u001b[0m\u001b[0;34m\u001b[0m\u001b[0m\n\u001b[1;32m      5\u001b[0m \u001b[0;32mclass\u001b[0m \u001b[0mDataClassCard\u001b[0m\u001b[0;34m:\u001b[0m\u001b[0;34m\u001b[0m\u001b[0;34m\u001b[0m\u001b[0m\n",
            "\u001b[0;31mModuleNotFoundError\u001b[0m: No module named \u0027dataclasses\u0027"
          ],
          "ename": "ModuleNotFoundError",
          "evalue": "No module named \u0027dataclasses\u0027",
          "output_type": "error"
        }
      ],
      "source": "from collections import namedtuple\nfrom dataclasses import dataclass, field\n\n@dataclass\nclass DataClassCard:\n    rank: str\n    suit: str\n    \n    \nmyclass \u003d DataClassCard(\u0027red\u0027, \u0027bla\u0027)\nprint(myclass)\nprint(myclass.rank)\n\nfrom typing import Any\n\n@dataclass\nclass MyClass:\n    something: Any \u003d 100\n    name: str \u003d \u0027Me\u0027\n    color: str \u003d \u0027red\u0027\n    \n    def my_method(self, something):\n        return something ** 2\n\n\nmyclass \u003d MyClass()\nprint(myclass)\n\nmyclass \u003d MyClass(\u0027Blah\u0027)\nprint(myclass)\n\nprint(myclass.my_method(10))\n\nRANKS \u003d \u00272 3 4 5 6 7 8 9 10 J Q K A\u0027.split()\nSUITS \u003d \u0027♣ ♢ ♡ ♠\u0027.split()\n\nfrom typing import List\n\n@dataclass\nclass PlayingCard:\n    rank: str\n    suit: str\n\n@dataclass\nclass Deck:\n    cards: List[PlayingCard]\n\ndef make_french_deck():\n    return [PlayingCard(r, s) for s in SUITS for r in RANKS]\n\n\n# @dataclass\n# class Deck:  # Will NOT work\n#     cards: List[PlayingCard] \u003d make_french_deck()\n\n@dataclass\nclass Deck:\n    cards: List[PlayingCard] \u003d field(default_factory\u003dmake_french_deck)\n    \nprint(Deck())",
      "metadata": {
        "pycharm": {
          "metadata": false,
          "name": "#%%\n",
          "is_executing": false
        }
      }
    },
    {
      "cell_type": "markdown",
      "source": "## args + kwargs\n",
      "metadata": {
        "pycharm": {
          "metadata": false,
          "name": "#%% md\n"
        }
      }
    },
    {
      "cell_type": "code",
      "execution_count": 1,
      "outputs": [
        {
          "name": "stdout",
          "text": [
            "args (0, 1, 2) kwargs {\u0027a\u0027: \u00271\u0027, \u0027b\u0027: \u00272\u0027}\nargs (0, 1, 2) kwargs {\u0027a\u0027: \u00271\u0027, \u0027b\u0027: \u00272\u0027}\naaa 0 args (1, 2) kwargs {\u0027a\u0027: \u00271\u0027, \u0027b\u0027: \u00272\u0027}\n"
          ],
          "output_type": "stream"
        }
      ],
      "source": "\ndef my_method(*args, **kwargs):\n    print(f\u0027args {args} kwargs {kwargs}\u0027)\n    \nmy_method(0,1,2,a\u003d\u00271\u0027, b\u003d\u00272\u0027)\n\ndef my_method(*bla, **ah):\n    print(f\u0027args {bla} kwargs {ah}\u0027)\n    \nmy_method(0,1,2,a\u003d\u00271\u0027, b\u003d\u00272\u0027)\n\ndef my_method(aaa, *args, **kwargs):\n    print(f\u0027aaa {aaa} args {args} kwargs {kwargs}\u0027)\n    \nmy_method(0,1,2,a\u003d\u00271\u0027, b\u003d\u00272\u0027)\n    ",
      "metadata": {
        "pycharm": {
          "metadata": false,
          "name": "#%%\n",
          "is_executing": false
        }
      }
    },
    {
      "cell_type": "markdown",
      "source": "## Named tuples",
      "metadata": {
        "pycharm": {
          "metadata": false,
          "name": "#%% md\n"
        }
      }
    },
    {
      "cell_type": "code",
      "execution_count": 6,
      "outputs": [
        {
          "name": "stdout",
          "text": [
            "MyCar(color\u003d\u0027red\u0027, max_speed\u003d100)\nred\n100\n"
          ],
          "output_type": "stream"
        }
      ],
      "source": "\nMy_car \u003d namedtuple(\u0027MyCar\u0027, [\u0027color\u0027, \u0027max_speed\u0027])\n\n\ncar_a \u003d My_car(\u0027red\u0027, 100)\nprint(car_a)\nprint(car_a.color)\nprint(car_a.max_speed)\n",
      "metadata": {
        "pycharm": {
          "metadata": false,
          "name": "#%%\n",
          "is_executing": false
        }
      }
    },
    {
      "cell_type": "markdown",
      "source": "## ABCs",
      "metadata": {
        "pycharm": {
          "metadata": false,
          "name": "#%% md\n"
        }
      }
    },
    {
      "cell_type": "code",
      "execution_count": 10,
      "outputs": [],
      "source": "\nfrom abc import ABCMeta, abstractmethod\n\nclass BaseClass(metaclass\u003dABCMeta):\n    @abstractmethod\n    def a(self):\n        pass\n    \n    @abstractmethod\n    def b(self):\n        pass\n    \nclass OtherClass(BaseClass):\n    def a(self):\n        return \u0027a\u0027\n\n    def b(self):\n        return \u0027b\u0027\n    \n\n# myclass \u003d BaseClass()\nmyclass \u003d OtherClass()\n",
      "metadata": {
        "pycharm": {
          "metadata": false,
          "name": "#%%\n",
          "is_executing": false
        }
      }
    },
    {
      "cell_type": "markdown",
      "source": "\n\n",
      "metadata": {
        "pycharm": {
          "metadata": false,
          "name": "#%% md\n"
        }
      }
    }
  ],
  "metadata": {
    "language_info": {
      "codemirror_mode": {
        "name": "ipython",
        "version": 2
      },
      "file_extension": ".py",
      "mimetype": "text/x-python",
      "name": "python",
      "nbconvert_exporter": "python",
      "pygments_lexer": "ipython2",
      "version": "2.7.6"
    },
    "kernelspec": {
      "name": "python3",
      "language": "python",
      "display_name": "Python 3"
    }
  },
  "nbformat": 4,
  "nbformat_minor": 0
}