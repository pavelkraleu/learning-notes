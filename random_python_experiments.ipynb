{
  "cells": [
    {
      "cell_type": "markdown",
      "metadata": {
        "collapsed": true,
        "pycharm": {
          "is_executing": false,
          "name": "#%% md\n"
        }
      },
      "source": "# Random Python Experiments\n\n## Data Classes\nhttps://realpython.com/python-data-classes/\n"
    },
    {
      "cell_type": "code",
      "execution_count": null,
      "outputs": [],
      "source": "from dataclasses import dataclass, field\n\n@dataclass\nclass DataClassCard:\n    rank: str\n    suit: str\n    \n    \nmyclass \u003d DataClassCard(\u0027red\u0027, \u0027bla\u0027)\nprint(myclass)\nprint(myclass.rank)\n\nfrom typing import Any\n\n@dataclass\nclass MyClass:\n    something: Any \u003d 100\n    name: str \u003d \u0027Me\u0027\n    color: str \u003d \u0027red\u0027\n    \n    def my_method(self, something):\n        return something ** 2\n\n\nmyclass \u003d MyClass()\nprint(myclass)\n\nmyclass \u003d MyClass(\u0027Blah\u0027)\nprint(myclass)\n\nprint(myclass.my_method(10))\n\nRANKS \u003d \u00272 3 4 5 6 7 8 9 10 J Q K A\u0027.split()\nSUITS \u003d \u0027♣ ♢ ♡ ♠\u0027.split()\n\nfrom typing import List\n\n@dataclass\nclass PlayingCard:\n    rank: str\n    suit: str\n\n@dataclass\nclass Deck:\n    cards: List[PlayingCard]\n\ndef make_french_deck():\n    return [PlayingCard(r, s) for s in SUITS for r in RANKS]\n\n\n# @dataclass\n# class Deck:  # Will NOT work\n#     cards: List[PlayingCard] \u003d make_french_deck()\n\n@dataclass\nclass Deck:\n    cards: List[PlayingCard] \u003d field(default_factory\u003dmake_french_deck)\n    \nprint(Deck())",
      "metadata": {
        "pycharm": {
          "metadata": false,
          "name": "#%%\n"
        }
      }
    },
    {
      "cell_type": "markdown",
      "source": "## args + kwargs\n",
      "metadata": {
        "pycharm": {
          "metadata": false,
          "name": "#%% md\n"
        }
      }
    },
    {
      "cell_type": "code",
      "execution_count": 14,
      "outputs": [
        {
          "name": "stdout",
          "text": [
            "args (0, 1, 2) kwargs {\u0027a\u0027: \u00271\u0027, \u0027b\u0027: \u00272\u0027}\nargs (0, 1, 2) kwargs {\u0027a\u0027: \u00271\u0027, \u0027b\u0027: \u00272\u0027}\naaa 0 args (1, 2) kwargs {\u0027a\u0027: \u00271\u0027, \u0027b\u0027: \u00272\u0027}\n"
          ],
          "output_type": "stream"
        }
      ],
      "source": "\ndef my_method(*args, **kwargs):\n    print(f\u0027args {args} kwargs {kwargs}\u0027)\n    \nmy_method(0,1,2,a\u003d\u00271\u0027, b\u003d\u00272\u0027)\n\ndef my_method(*bla, **ah):\n    print(f\u0027args {bla} kwargs {ah}\u0027)\n    \nmy_method(0,1,2,a\u003d\u00271\u0027, b\u003d\u00272\u0027)\n\ndef my_method(aaa, *args, **kwargs):\n    print(f\u0027aaa {aaa} args {args} kwargs {kwargs}\u0027)\n    \nmy_method(0,1,2,a\u003d\u00271\u0027, b\u003d\u00272\u0027)\n    \n",
      "metadata": {
        "pycharm": {
          "metadata": false,
          "name": "#%%\n",
          "is_executing": false
        }
      }
    },
    {
      "cell_type": "code",
      "execution_count": null,
      "outputs": [],
      "source": "\n",
      "metadata": {
        "pycharm": {
          "metadata": false,
          "name": "#%%\n"
        }
      }
    }
  ],
  "metadata": {
    "language_info": {
      "codemirror_mode": {
        "name": "ipython",
        "version": 2
      },
      "file_extension": ".py",
      "mimetype": "text/x-python",
      "name": "python",
      "nbconvert_exporter": "python",
      "pygments_lexer": "ipython2",
      "version": "2.7.6"
    },
    "kernelspec": {
      "name": "pycharm-b1c1a3ed",
      "language": "python",
      "display_name": "PyCharm (learning-notes)"
    }
  },
  "nbformat": 4,
  "nbformat_minor": 0
}