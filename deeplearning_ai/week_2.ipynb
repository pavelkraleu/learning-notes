{
 "cells": [
  {
   "cell_type": "markdown",
   "metadata": {
    "collapsed": true,
    "pycharm": {
     "name": "#%% md\n"
    }
   },
   "source": [
    "## Logistic regression\n",
    "\n",
    "### Sigmoid"
   ]
  },
  {
   "cell_type": "code",
   "execution_count": 16,
   "metadata": {
    "pycharm": {
     "is_executing": false,
     "name": "#%%\n"
    }
   },
   "outputs": [
    {
     "name": "stdout",
     "output_type": "stream",
     "text": [
      "Sigmoid of 10 is 1.000\n",
      "Sigmoid of -10 is 0.000\n",
      "Sigmoid of 0 is 0.500\n",
      "Sigmoid of -100 is 0.000\n",
      "Sigmoid of 100 is 1.000\n",
      "Sigmoid of 0.5 is 0.622\n"
     ]
    }
   ],
   "source": [
    "\n",
    "import math\n",
    "\n",
    "\n",
    "def sigmoid(z):\n",
    "    return 1 / (1 + math.e ** -z)\n",
    "\n",
    "for i in [10, -10, 0, -100, 100, 0.5]:\n",
    "    print(f'Sigmoid of {i} is {sigmoid(i):.3f}')\n",
    "\n"
   ]
  },
  {
   "cell_type": "code",
   "execution_count": null,
   "metadata": {
    "pycharm": {
     "name": "#%%\n"
    }
   },
   "outputs": [],
   "source": [
    "\n"
   ]
  }
 ],
 "metadata": {
  "kernelspec": {
   "display_name": "Python 3",
   "language": "python",
   "name": "python3"
  },
  "language_info": {
   "codemirror_mode": {
    "name": "ipython",
    "version": 3
   },
   "file_extension": ".py",
   "mimetype": "text/x-python",
   "name": "python",
   "nbconvert_exporter": "python",
   "pygments_lexer": "ipython3",
   "version": "3.6.7"
  },
  "pycharm": {
   "stem_cell": {
    "cell_type": "raw",
    "source": [],
    "metadata": {
     "collapsed": false
    }
   }
  }
 },
 "nbformat": 4,
 "nbformat_minor": 1
}