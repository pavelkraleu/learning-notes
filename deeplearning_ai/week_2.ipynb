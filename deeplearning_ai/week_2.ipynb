{
 "cells": [
  {
   "cell_type": "markdown",
   "metadata": {
    "collapsed": true,
    "pycharm": {
     "name": "#%% md\n"
    }
   },
   "source": [
    "## Logistic regression\n",
    "\n",
    "<table>\n",
    "<tr><td><img src=\"log_reg_def.jpg\"></td><td><img src=\"cost_fce.jpg\"></td></tr>\n",
    "</table>\n",
    "\n",
    "### Sigmoid"
   ]
  },
  {
   "cell_type": "code",
   "execution_count": 17,
   "metadata": {
    "pycharm": {
     "is_executing": false,
     "name": "#%%\n"
    }
   },
   "outputs": [
    {
     "name": "stdout",
     "text": [
      "Sigmoid of 10 is 1.000\nSigmoid of -10 is 0.000\nSigmoid of 0 is 0.500\nSigmoid of -100 is 0.000\nSigmoid of 100 is 1.000\nSigmoid of 0.5 is 0.622\n"
     ],
     "output_type": "stream"
    }
   ],
   "source": [
    "\n",
    "import math\n",
    "\n",
    "\n",
    "def sigmoid(z):\n",
    "    return 1 / (1 + math.e ** -z)\n",
    "\n",
    "for i in [10, -10, 0, -100, 100, 0.5]:\n",
    "    print(f'Sigmoid of {i} is {sigmoid(i):.3f}')\n",
    "\n"
   ]
  },
  {
   "cell_type": "code",
   "execution_count": null,
   "metadata": {
    "pycharm": {
     "name": "#%%\n"
    }
   },
   "outputs": [],
   "source": [
    "\n"
   ]
  }
 ],
 "metadata": {
  "kernelspec": {
   "display_name": "Python 3",
   "language": "python",
   "name": "python3"
  },
  "language_info": {
   "codemirror_mode": {
    "name": "ipython",
    "version": 3
   },
   "file_extension": ".py",
   "mimetype": "text/x-python",
   "name": "python",
   "nbconvert_exporter": "python",
   "pygments_lexer": "ipython3",
   "version": "3.6.7"
  },
  "pycharm": {
   "stem_cell": {
    "cell_type": "raw",
    "source": [],
    "metadata": {
     "collapsed": false
    }
   }
  }
 },
 "nbformat": 4,
 "nbformat_minor": 1
}