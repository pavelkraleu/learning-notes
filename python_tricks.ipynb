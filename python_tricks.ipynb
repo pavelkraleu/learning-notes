{
  "cells": [
    {
      "cell_type": "markdown",
      "source": "\n### Asserts\n\nAsserts can be globally disabled with an interpreter settings\nThey shouldn\u0027t be used for security checks etc.\n\n---\n\n### Lists\n\nChanges look better in commits with lists in separate lines.\nAlso put comma behind last item to make it easier to add new items.\n",
      "metadata": {
        "pycharm": {
          "metadata": false
        }
      }
    },
    {
      "cell_type": "markdown",
      "source": "This is better",
      "metadata": {
        "pycharm": {
          "metadata": false
        }
      }
    },
    {
      "cell_type": "code",
      "execution_count": null,
      "outputs": [],
      "source": "import random\nnames \u003d [\n    \u0027bob\u0027,\n    \u0027john\u0027,\n    \u0027robert\u0027,\n]",
      "metadata": {
        "pycharm": {
          "metadata": false,
          "name": "#%%\n"
        }
      }
    },
    {
      "cell_type": "markdown",
      "source": "Than this",
      "metadata": {
        "pycharm": {
          "metadata": false
        }
      }
    },
    {
      "cell_type": "code",
      "execution_count": null,
      "outputs": [],
      "source": "names \u003d [\u0027bob\u0027,\u0027john\u0027,\u0027robert\u0027]",
      "metadata": {
        "pycharm": {
          "metadata": false,
          "name": "#%%\n"
        }
      }
    },
    {
      "cell_type": "markdown",
      "source": "And this",
      "metadata": {
        "pycharm": {
          "metadata": false
        }
      }
    },
    {
      "cell_type": "code",
      "execution_count": null,
      "outputs": [],
      "source": "names \u003d [\n    \u0027bob\u0027,\n    \u0027john\u0027,\n    \u0027robert\u0027\n]",
      "metadata": {
        "pycharm": {
          "metadata": false,
          "name": "#%%\n"
        }
      }
    },
    {
      "cell_type": "markdown",
      "source": "--- \n### Context managers\n\nContext managers are classes with `__enter__` and `__exit__`.",
      "metadata": {
        "pycharm": {
          "metadata": false
        }
      }
    },
    {
      "cell_type": "code",
      "execution_count": 27,
      "outputs": [],
      "source": "\nclass ContextManager:\n    \n    def __enter__(self):\n        print(\u0027enter\u0027)\n        \n    def __exit__(self, exc_type, exc_val, exc_tb):\n        print(\u0027exit\u0027)\n     ",
      "metadata": {
        "pycharm": {
          "metadata": false,
          "name": "#%%\n",
          "is_executing": false
        }
      }
    },
    {
      "cell_type": "code",
      "execution_count": 28,
      "outputs": [
        {
          "name": "stdout",
          "text": [
            "enter\nhello\nexit\n"
          ],
          "output_type": "stream"
        }
      ],
      "source": "with ContextManager():\n    print(\u0027hello\u0027)",
      "metadata": {
        "pycharm": {
          "metadata": false,
          "name": "#%%   \n",
          "is_executing": false
        }
      }
    },
    {
      "cell_type": "code",
      "execution_count": 29,
      "outputs": [
        {
          "name": "stdout",
          "text": [
            "enter\nexit\n"
          ],
          "output_type": "stream"
        },
        {
          "traceback": [
            "\u001b[0;31m---------------------------------------------------------------------------\u001b[0m",
            "\u001b[0;31mValueError\u001b[0m                                Traceback (most recent call last)",
            "\u001b[0;32m\u003cipython-input-29-94653a1ce492\u003e\u001b[0m in \u001b[0;36m\u003cmodule\u003e\u001b[0;34m\u001b[0m\n\u001b[1;32m      1\u001b[0m \u001b[0;32mwith\u001b[0m \u001b[0mContextManager\u001b[0m\u001b[0;34m(\u001b[0m\u001b[0;34m)\u001b[0m\u001b[0;34m:\u001b[0m\u001b[0;34m\u001b[0m\u001b[0;34m\u001b[0m\u001b[0m\n\u001b[0;32m----\u003e 2\u001b[0;31m     \u001b[0;32mraise\u001b[0m \u001b[0mValueError\u001b[0m\u001b[0;34m\u001b[0m\u001b[0;34m\u001b[0m\u001b[0m\n\u001b[0m",
            "\u001b[0;31mValueError\u001b[0m: "
          ],
          "ename": "ValueError",
          "evalue": "",
          "output_type": "error"
        }
      ],
      "source": "with ContextManager():\n    raise ValueError",
      "metadata": {
        "pycharm": {
          "metadata": false,
          "name": "#%%\n",
          "is_executing": false
        }
      }
    },
    {
      "cell_type": "markdown",
      "source": "--- \n\n### Underscores\n\n### `_var` - Single leading underscore  \nPrivate variable. This is just a convention (in PEP8)  \nPython will not import import modules with leading underscores automatically.\nUnless defined in `__all__`\n\n### `var_` - Single trailing underscore  \nIf is variable name is already taken, use this.\n`set_`,`class_`,`dict_` etc.\nThis is just a convention.\n\n### `__var` - Double leading underscore  \nUsed for name mangling.  \nInterpreter changes this name to something else, to prevent collision when extended.\n ",
      "metadata": {
        "pycharm": {
          "metadata": false,
          "name": "#%% md\n"
        }
      }
    },
    {
      "cell_type": "code",
      "execution_count": 1,
      "outputs": [
        {
          "name": "stdout",
          "text": [
            "[\u0027_TestA__a\u0027, \u0027__class__\u0027, \u0027__delattr__\u0027, \u0027__dict__\u0027, \u0027__dir__\u0027, \u0027__doc__\u0027, \u0027__eq__\u0027, \u0027__format__\u0027, \u0027__ge__\u0027, \u0027__getattribute__\u0027, \u0027__gt__\u0027, \u0027__hash__\u0027, \u0027__init__\u0027, \u0027__init_subclass__\u0027, \u0027__le__\u0027, \u0027__lt__\u0027, \u0027__module__\u0027, \u0027__ne__\u0027, \u0027__new__\u0027, \u0027__reduce__\u0027, \u0027__reduce_ex__\u0027, \u0027__repr__\u0027, \u0027__setattr__\u0027, \u0027__sizeof__\u0027, \u0027__str__\u0027, \u0027__subclasshook__\u0027, \u0027__weakref__\u0027, \u0027_a\u0027, \u0027a\u0027, \u0027do_something\u0027]\n1\n1\n1\n[\u0027_TestA__a\u0027, \u0027_TestB__a\u0027, \u0027__class__\u0027, \u0027__delattr__\u0027, \u0027__dict__\u0027, \u0027__dir__\u0027, \u0027__doc__\u0027, \u0027__eq__\u0027, \u0027__format__\u0027, \u0027__ge__\u0027, \u0027__getattribute__\u0027, \u0027__gt__\u0027, \u0027__hash__\u0027, \u0027__init__\u0027, \u0027__init_subclass__\u0027, \u0027__le__\u0027, \u0027__lt__\u0027, \u0027__module__\u0027, \u0027__ne__\u0027, \u0027__new__\u0027, \u0027__reduce__\u0027, \u0027__reduce_ex__\u0027, \u0027__repr__\u0027, \u0027__setattr__\u0027, \u0027__sizeof__\u0027, \u0027__str__\u0027, \u0027__subclasshook__\u0027, \u0027__weakref__\u0027, \u0027_a\u0027, \u0027a\u0027, \u0027do_something\u0027]\n3\n3\n1\n"
          ],
          "output_type": "stream"
        }
      ],
      "source": "class TestA:\n    def __init__(self):\n        self.a \u003d 1\n        self._a \u003d 1\n        self.__a \u003d 1\n        \n    def do_something(self):\n        print(self.a)\n        print(self._a)\n        print(self.__a)\n        \ntsta \u003d TestA()\nprint(dir(tsta))\ntsta.do_something()\n\n# print(tsta.a)\n# print(tsta._a)\n# print(tsta.__a)\n# This explodes -\u003e __a is not here\n\nclass TestB(TestA):\n    def __init__(self):\n        \n        super().__init__()\n        \n        self.a \u003d 3\n        self._a \u003d 3\n        self.__a \u003d 3\n\ntstb \u003d TestB()\nprint(dir(tstb))\ntstb.do_something()\n",
      "metadata": {
        "pycharm": {
          "metadata": false,
          "name": "#%%\n",
          "is_executing": false
        }
      }
    },
    {
      "cell_type": "markdown",
      "source": "\n### `__var__` - Double leading and training underscores - \u0027Magic\u0027 methods \n\n### `_` - Single underscore - Unused variable\n\n--- \n\n### String formatting\n\n#### Old string formatting\n\nIsn\u0027t deprecated, but should be avoided\n",
      "metadata": {
        "pycharm": {
          "metadata": false,
          "name": "#%% md\n"
        }
      }
    },
    {
      "cell_type": "code",
      "execution_count": 2,
      "outputs": [
        {
          "name": "stdout",
          "text": [
            "Hello John\n"
          ],
          "output_type": "stream"
        }
      ],
      "source": "\nname \u003d \u0027John\u0027\nprint(\u0027Hello %s\u0027 % name)\n",
      "metadata": {
        "pycharm": {
          "metadata": false,
          "name": "#%%\n",
          "is_executing": false
        }
      }
    },
    {
      "cell_type": "markdown",
      "source": "\n#### New string formatting\n\nBetter than \u0027Old string\u0027\n",
      "metadata": {
        "pycharm": {
          "metadata": false,
          "name": "#%% md\n"
        }
      }
    },
    {
      "cell_type": "code",
      "execution_count": 1,
      "outputs": [
        {
          "name": "stdout",
          "text": [
            "Hello John\n"
          ],
          "output_type": "stream"
        }
      ],
      "source": "\nname \u003d \u0027John\u0027\nprint(\u0027Hello {}\u0027.format(name))\n",
      "metadata": {
        "pycharm": {
          "metadata": false,
          "name": "#%%\n",
          "is_executing": false
        }
      }
    },
    {
      "cell_type": "markdown",
      "source": "\n#### Literal string interpolation\n\nThis should be used.\nIt is usually faster than just `\u0027Hello \u0027+ name`\n",
      "metadata": {
        "pycharm": {
          "metadata": false,
          "name": "#%% md\n"
        }
      }
    },
    {
      "cell_type": "code",
      "execution_count": 2,
      "outputs": [
        {
          "name": "stdout",
          "text": [
            "Hello John\n"
          ],
          "output_type": "stream"
        }
      ],
      "source": "\nname \u003d \u0027John\u0027\nprint(f\u0027Hello {name}\u0027)\n",
      "metadata": {
        "pycharm": {
          "metadata": false,
          "name": "#%%\n",
          "is_executing": false
        }
      }
    },
    {
      "cell_type": "markdown",
      "source": "\n#### Template strings\n\nUseful when handling \u0027untrusted\u0027 input from users\n",
      "metadata": {
        "pycharm": {
          "metadata": false,
          "name": "#%% md\n"
        }
      }
    },
    {
      "cell_type": "code",
      "execution_count": 3,
      "outputs": [
        {
          "data": {
            "text/plain": "\u0027Hello John\u0027"
          },
          "metadata": {},
          "output_type": "execute_result",
          "execution_count": 3
        }
      ],
      "source": "from string import Template\n\nname \u003d \u0027John\u0027\n\ntem \u003d Template(\u0027Hello $name\u0027)\ntem.substitute(name\u003dname)\n",
      "metadata": {
        "pycharm": {
          "metadata": false,
          "name": "#%%\n",
          "is_executing": false
        }
      }
    },
    {
      "cell_type": "markdown",
      "source": "\nHow untrusted string from user can expose secrets \n",
      "metadata": {
        "pycharm": {
          "metadata": false,
          "name": "#%% md\n"
        }
      }
    },
    {
      "cell_type": "code",
      "execution_count": 4,
      "outputs": [
        {
          "name": "stdout",
          "text": [
            "SECRET\n"
          ],
          "output_type": "stream"
        }
      ],
      "source": "\nclass Car:\n    \n    car_secret_key \u003d \u0027SECRET\u0027\n    \n    def __init__(self):\n        pass\n\nblue_car \u003d Car()\n\nstring_from_evil_user \u003d \u0027{car.car_secret_key}\u0027\n\nprint(string_from_evil_user.format(car\u003dblue_car))\n",
      "metadata": {
        "pycharm": {
          "metadata": false,
          "name": "#%%\n",
          "is_executing": false
        }
      }
    },
    {
      "cell_type": "markdown",
      "source": "\n--- \n\n### Functions\n\nFunctions that can accept other functions are called higher-order functions\n",
      "metadata": {
        "pycharm": {
          "metadata": false,
          "name": "#%% md\n"
        }
      }
    },
    {
      "cell_type": "code",
      "execution_count": 6,
      "outputs": [
        {
          "name": "stdout",
          "text": [
            "\u003cfunction get_car_func.\u003clocals\u003e.red at 0x1073dfb70\u003e\nRed BMW\n"
          ],
          "output_type": "stream"
        }
      ],
      "source": "\ndef get_car_func(color):\n    \n    def red(brand):\n        return f\u0027Red {brand}\u0027\n    \n    def blue(brand):\n        return f\u0027Blue {brand}\u0027\n    \n    if color \u003d\u003d \u0027red\u0027:\n        return red\n    else:\n        return blue\n    \nprint(get_car_func(\u0027red\u0027))\n\ncar_fce \u003d get_car_func(\u0027red\u0027)\n\nprint(car_fce(\u0027BMW\u0027))\n",
      "metadata": {
        "pycharm": {
          "metadata": false,
          "name": "#%%\n",
          "is_executing": false
        }
      }
    },
    {
      "cell_type": "markdown",
      "source": "\nReturned function can still access the upper scope.\nThis is called \u0027Lexical closure\u0027\n",
      "metadata": {
        "pycharm": {
          "metadata": false,
          "name": "#%% md\n"
        }
      }
    },
    {
      "cell_type": "code",
      "execution_count": 11,
      "outputs": [
        {
          "name": "stdout",
          "text": [
            "RED Red BMW\nOTHER Blue BMW\n"
          ],
          "output_type": "stream"
        }
      ],
      "source": "\ndef get_car_func(color):\n    \n    def red(brand):\n        return f\u0027RED {color.capitalize()} {brand}\u0027\n    \n    def other(brand):\n        return f\u0027OTHER {color.capitalize()} {brand}\u0027\n    \n    if color \u003d\u003d \u0027red\u0027:\n        return red\n    else:\n        return other\n\n\na \u003d get_car_func(\u0027red\u0027)\nprint(a(\u0027BMW\u0027))\n\nb \u003d get_car_func(\u0027blue\u0027)\nprint(b(\u0027BMW\u0027))\n\n",
      "metadata": {
        "pycharm": {
          "metadata": false,
          "name": "#%%\n",
          "is_executing": false
        }
      }
    },
    {
      "cell_type": "markdown",
      "source": "\n### Decorators\n\nSimplest decorator :\n",
      "metadata": {
        "pycharm": {
          "metadata": false,
          "name": "#%% md\n"
        }
      }
    },
    {
      "cell_type": "code",
      "execution_count": 3,
      "outputs": [
        {
          "data": {
            "text/plain": "\u0027John\u0027"
          },
          "metadata": {},
          "output_type": "execute_result",
          "execution_count": 3
        }
      ],
      "source": "\ndef null_decorator(func):\n    return func\n\ndef say_name():\n    return \u0027John\u0027\n\nname \u003d null_decorator(say_name)\n\nname()\n",
      "metadata": {
        "pycharm": {
          "metadata": false,
          "name": "#%%\n",
          "is_executing": false
        }
      }
    },
    {
      "cell_type": "markdown",
      "source": "\nMethod can be permanently decorated with `@`\n",
      "metadata": {
        "pycharm": {
          "metadata": false,
          "name": "#%% md\n"
        }
      }
    },
    {
      "cell_type": "code",
      "execution_count": 2,
      "outputs": [
        {
          "data": {
            "text/plain": "\u0027John\u0027"
          },
          "metadata": {},
          "output_type": "execute_result",
          "execution_count": 2
        }
      ],
      "source": "\ndef null_decorator(func):\n    return func\n\n@null_decorator\ndef say_name():\n    return \u0027John\u0027\n\nsay_name()\n",
      "metadata": {
        "pycharm": {
          "metadata": false,
          "name": "#%%\n",
          "is_executing": false
        }
      }
    },
    {
      "cell_type": "markdown",
      "source": "\nMore complicated decorator\n",
      "metadata": {
        "pycharm": {
          "metadata": false,
          "name": "#%% md\n"
        }
      }
    },
    {
      "cell_type": "code",
      "execution_count": 4,
      "outputs": [
        {
          "data": {
            "text/plain": "\u0027Little John\u0027"
          },
          "metadata": {},
          "output_type": "execute_result",
          "execution_count": 4
        }
      ],
      "source": "\ndef title_decorator(func):\n    \n    def wrapper():\n        original_result \u003d func()\n        new_result \u003d original_result.title()\n        \n        return new_result\n    \n    return wrapper\n\n@title_decorator\ndef say_name():\n    return \u0027little john\u0027\n\nsay_name()",
      "metadata": {
        "pycharm": {
          "metadata": false,
          "name": "#%%\n",
          "is_executing": false
        }
      }
    },
    {
      "cell_type": "markdown",
      "source": "\nDecorators are applied from bottom to top\n",
      "metadata": {
        "pycharm": {
          "metadata": false,
          "name": "#%% md\n"
        }
      }
    },
    {
      "cell_type": "code",
      "execution_count": 5,
      "outputs": [
        {
          "data": {
            "text/plain": "\u0027bb_aa_little john_aa_bb\u0027"
          },
          "metadata": {},
          "output_type": "execute_result",
          "execution_count": 5
        }
      ],
      "source": "\ndef aa_decorator(func):\n    \n    def wrapper():\n        return f\u0027aa_{func()}_aa\u0027\n    \n    return wrapper\n\n\ndef bb_decorator(func):\n    \n    def wrapper():\n        return f\u0027bb_{func()}_bb\u0027\n    \n    return wrapper\n\n@bb_decorator\n@aa_decorator\ndef say_name():\n    return \u0027little john\u0027\n\nsay_name()\n",
      "metadata": {
        "pycharm": {
          "metadata": false,
          "name": "#%%\n",
          "is_executing": false
        }
      }
    },
    {
      "cell_type": "markdown",
      "source": "\nThis also means that deep levels of decorator stacking weill eventually have an effect on performance\n\n#### kwargs + args\n",
      "metadata": {
        "pycharm": {
          "metadata": false,
          "name": "#%% md\n"
        }
      }
    },
    {
      "cell_type": "code",
      "execution_count": 8,
      "outputs": [
        {
          "name": "stdout",
          "text": [
            "say_name called with () and {}\nsay_name called with (\u0027hello\u0027,) and {}\nsay_name called with (\u0027hello\u0027,) and {\u0027name\u0027: \u0027bean\u0027}\n"
          ],
          "output_type": "stream"
        },
        {
          "data": {
            "text/plain": "\u0027aa_little john_aa\u0027"
          },
          "metadata": {},
          "output_type": "execute_result",
          "execution_count": 8
        }
      ],
      "source": "\ndef aa_decorator(func):\n    \n    def wrapper(*args, **kwargs):\n        \n        print(f\u0027{func.__name__} called with {args} and {kwargs}\u0027)\n        \n        return f\u0027aa_{func()}_aa\u0027\n    \n    return wrapper\n\n# This can be useful for debugging\n@aa_decorator\ndef say_name():\n    return \u0027little john\u0027\n\nsay_name()\nsay_name(\u0027hello\u0027)\nsay_name(\u0027hello\u0027, name\u003d\u0027bean\u0027)\n",
      "metadata": {
        "pycharm": {
          "metadata": false,
          "name": "#%%\n",
          "is_executing": false
        }
      }
    },
    {
      "cell_type": "markdown",
      "source": "\nDecorating function hides some data of the original function\n",
      "metadata": {
        "pycharm": {
          "metadata": false,
          "name": "#%% md\n"
        }
      }
    },
    {
      "cell_type": "code",
      "execution_count": 12,
      "outputs": [
        {
          "name": "stdout",
          "text": [
            "hello\nThis just says hello\nwrapper\nNone\n"
          ],
          "output_type": "stream"
        }
      ],
      "source": "\ndef hello():\n    \"\"\"This just says hello\"\"\"\n    \n    return \"Hello\"\n\nprint(hello.__name__)\nprint(hello.__doc__)\n\ndecorated_hello \u003d aa_decorator(hello)\n\nprint(decorated_hello.__name__)\nprint(decorated_hello.__doc__)\n",
      "metadata": {
        "pycharm": {
          "metadata": false,
          "name": "#%% \n",
          "is_executing": false
        }
      }
    },
    {
      "cell_type": "markdown",
      "source": "\nWhich can be fixed with `functools.wraps`.\nYou should use that :)\n",
      "metadata": {
        "pycharm": {
          "metadata": false,
          "name": "#%% md\n"
        }
      }
    },
    {
      "cell_type": "code",
      "execution_count": 20,
      "outputs": [
        {
          "name": "stdout",
          "text": [
            "hello\nThis just says hello\n"
          ],
          "output_type": "stream"
        }
      ],
      "source": "\nimport functools\n\ndef aa_decorator(func):\n    @functools.wraps(func)    \n    def wrapper(*args, **kwargs):\n        \n        print(f\u0027{func.__name__} called with {args} and {kwargs}\u0027)\n        \n        return f\u0027aa_{func()}_aa\u0027\n    \n    return wrapper\n\n@aa_decorator\ndef hello():\n    \"\"\"This just says hello\"\"\"\n    \n    return \"Hello\"\n\nprint(hello.__name__)\nprint(hello.__doc__)",
      "metadata": {
        "pycharm": {
          "metadata": false,
          "name": "#%%\n",
          "is_executing": false
        }
      }
    },
    {
      "cell_type": "markdown",
      "source": "\n### *args and **kwargs\n\nThis allows functions to accept optional arguments\n",
      "metadata": {
        "pycharm": {
          "metadata": false,
          "name": "#%% md\n"
        }
      }
    },
    {
      "cell_type": "code",
      "execution_count": 5,
      "outputs": [
        {
          "name": "stdout",
          "text": [
            "required\nrequired\nargs (1, 2)\nrequired\nargs (1, 2)\nkwargs {\u0027a\u0027: \u0027aaa\u0027, \u0027b\u0027: \u0027bb\u0027}\n"
          ],
          "output_type": "stream"
        }
      ],
      "source": "\ndef some_func(required_param, *args, **kwargs):\n    \n    print(required_param)\n    \n    if args:\n        print(f\u0027args {args}\u0027)\n        \n    if kwargs:\n        print(f\u0027kwargs {kwargs}\u0027)\n\n\nsome_func(\u0027required\u0027)\nsome_func(\u0027required\u0027,1,2)\nsome_func(\u0027required\u0027,1,2,a\u003d\u0027aaa\u0027, b\u003d\u0027bb\u0027)\n",
      "metadata": {
        "pycharm": {
          "metadata": false,
          "name": "#%% \n",
          "is_executing": false
        }
      }
    },
    {
      "cell_type": "markdown",
      "source": "\nThis can be used to pass parameters from one function to another\n",
      "metadata": {
        "pycharm": {
          "metadata": false,
          "name": "#%% md\n"
        }
      }
    },
    {
      "cell_type": "code",
      "execution_count": 5,
      "outputs": [
        {
          "name": "stdout",
          "text": [
            "required\n(1, 2)\n{\u0027a\u0027: \u0027aaa\u0027, \u0027b\u0027: \u0027bb\u0027}\nrequired\n(1, 2, \u0027aaa\u0027)\n{\u0027a\u0027: \u0027aaa\u0027, \u0027b\u0027: \u0027bb\u0027, \u0027something\u0027: \u0027else\u0027}\nred\n"
          ],
          "output_type": "stream"
        }
      ],
      "source": "\ndef some_other_func(required_param, *args, **kwargs):\n    \n    print(required_param)\n    print(args)\n    print(kwargs)\n\ndef some_func(required_param, *args, **kwargs):\n    \n    print(required_param)\n    print(args)\n    print(kwargs)\n    \n    kwargs[\u0027something\u0027] \u003d \u0027else\u0027\n    args +\u003d (\u0027aaa\u0027, )\n    \n    some_other_func(required_param, *args, **kwargs)\n    \n    \nsome_func(\u0027required\u0027,1,2,a\u003d\u0027aaa\u0027, b\u003d\u0027bb\u0027)\n",
      "metadata": {
        "pycharm": {
          "metadata": false,
          "name": "#%%\n",
          "is_executing": false
        }
      }
    },
    {
      "cell_type": "markdown",
      "source": "\n`Apple` passes all parameters to its parent. \nTherefore if `Fruit` significantly changes, `Apple` will be probably still working.\n",
      "metadata": {
        "pycharm": {
          "metadata": false,
          "name": "#%% md\n"
        }
      }
    },
    {
      "cell_type": "code",
      "execution_count": 6,
      "outputs": [
        {
          "name": "stdout",
          "text": [
            "red\n"
          ],
          "output_type": "stream"
        }
      ],
      "source": "class Fruit:\n    def __init__(self, color, size):\n        self.color \u003d color\n        self.size \u003d size\n        \nclass Apple(Fruit):\n    def __init__(self, *args, **kwargs):\n        super().__init__(*args, **kwargs)\n        \n        self.color \u003d \u0027red\u0027\n\napple \u003d Apple(\u0027blue\u0027, 100)\nprint(apple.color)\n\n\n",
      "metadata": {
        "pycharm": {
          "metadata": false,
          "name": "#%%\n",
          "is_executing": false
        }
      }
    },
    {
      "cell_type": "markdown",
      "source": "\n### Function argument unpacking\n",
      "metadata": {
        "pycharm": {
          "metadata": false,
          "name": "#%% md\n"
        }
      }
    },
    {
      "cell_type": "code",
      "execution_count": 11,
      "outputs": [
        {
          "name": "stdout",
          "text": [
            "a:0 b:1 c:2\na:0 b:1 c:2\na:0 b:1 c:2\n[0, 2, 4]\na:0 b:2 c:4\na:-1 b:-2 c:-3\na:a b:b c:c\na:a b:b c:c\na:-1 b:-2 c:-3\n"
          ],
          "output_type": "stream"
        }
      ],
      "source": "def print_something(a, b, c):\n    print(f\u0027a:{a} b:{b} c:{c}\u0027)\n    \nprint_something(0,1,2)\n\ntuple_vec \u003d (0,1,2)\nlist_vec \u003d [0,1,2]\n\nprint_something(*tuple_vec)\nprint_something(*list_vec)\n    \ngenerator \u003d [x * 2 for x in range(3)]\nprint(generator)\n\nprint_something(*generator)\n\ndict_vector \u003d {\u0027a\u0027: -1, \u0027b\u0027: -2, \u0027c\u0027: -3}\nprint_something(**dict_vector)\nprint_something(*dict_vector)\nprint_something(*dict_vector.keys())\nprint_something(*dict_vector.values())\n",
      "metadata": {
        "pycharm": {
          "metadata": false,
          "name": "#%% \n",
          "is_executing": false
        }
      }
    },
    {
      "cell_type": "markdown",
      "source": "\n### \"is\" vs \"\u003d\u003d\"\n",
      "metadata": {
        "pycharm": {
          "metadata": false
        }
      }
    },
    {
      "cell_type": "code",
      "execution_count": 8,
      "outputs": [
        {
          "name": "stdout",
          "text": [
            "True\nTrue\nTrue\nFalse\n"
          ],
          "output_type": "stream"
        }
      ],
      "source": "\na \u003d [1, 2, 3]\nb \u003d a\n\n# Lists have same content\nprint(a \u003d\u003d b)\n\n# Lists are same instances\nprint(a is b)\n\nc \u003d list(a)\n# Lists are same\nprint(a \u003d\u003d c)\n\n# But are different instances\nprint(a is c)\n",
      "metadata": {
        "pycharm": {
          "metadata": false,
          "name": "#%% \n",
          "is_executing": false
        }
      }
    },
    {
      "cell_type": "markdown",
      "source": "\n### Every class needs `__repr__`\n",
      "metadata": {
        "pycharm": {
          "metadata": false,
          "name": "#%% md\n"
        }
      }
    },
    {
      "cell_type": "code",
      "execution_count": 17,
      "outputs": [
        {
          "name": "stdout",
          "text": [
            "\u003c__main__.Apple object at 0x105de9828\u003e\nClass Apple color:red size:10cm\nClass Apple color:red size:10cm\nApple(\u0027red\u0027 10)\n"
          ],
          "output_type": "stream"
        }
      ],
      "source": "\nclass Apple:\n    def __init__(self, color, size):\n        self.color \u003d color\n        self.size \u003d size\n        \nred_apple \u003d Apple(\u0027red\u0027, 10)\nprint(red_apple)\n# This is horrible\n\n# If __str__ is missing python falls back to __repr__\n\nclass Apple:\n    def __init__(self, color, size):\n        self.color \u003d color\n        self.size \u003d size\n        \n    def __str__(self):\n        # This is used for conversion to string\n        return f\u0027Class Apple color:{self.color} size:{self.size}cm\u0027\n\n    def __repr__(self):\n        # This is used when debugging to terminal\n        # Should be \u0027more technical\u0027\n        # !r calls repr() in object\n        return f\u0027{self.__class__.__name__}({self.color!r} {self.size!r})\u0027\n        \n        \nred_apple \u003d Apple(\u0027red\u0027, 10)\nprint(red_apple)\nred_apple\nprint(str(red_apple))\nprint(repr(red_apple))\n\n",
      "metadata": {
        "pycharm": {
          "metadata": false,
          "name": "#%%\n",
          "is_executing": false
        }
      }
    },
    {
      "cell_type": "markdown",
      "source": "### Defining your own exception classes\n",
      "metadata": {
        "pycharm": {
          "metadata": false,
          "name": "#%% md\n"
        }
      }
    },
    {
      "cell_type": "code",
      "execution_count": 18,
      "outputs": [
        {
          "traceback": [
            "\u001b[0;31m---------------------------------------------------------------------------\u001b[0m",
            "\u001b[0;31mValueError\u001b[0m                                Traceback (most recent call last)",
            "\u001b[0;32m\u003cipython-input-18-a2dc0b21cdfa\u003e\u001b[0m in \u001b[0;36m\u003cmodule\u003e\u001b[0;34m\u001b[0m\n\u001b[1;32m      5\u001b[0m \u001b[0;34m\u001b[0m\u001b[0m\n\u001b[1;32m      6\u001b[0m \u001b[0;34m\u001b[0m\u001b[0m\n\u001b[0;32m----\u003e 7\u001b[0;31m \u001b[0mconnection\u001b[0m\u001b[0;34m(\u001b[0m\u001b[0;36m10\u001b[0m\u001b[0;34m)\u001b[0m\u001b[0;34m\u001b[0m\u001b[0;34m\u001b[0m\u001b[0m\n\u001b[0m\u001b[1;32m      8\u001b[0m \u001b[0;34m\u001b[0m\u001b[0m\n",
            "\u001b[0;32m\u003cipython-input-18-a2dc0b21cdfa\u003e\u001b[0m in \u001b[0;36mconnection\u001b[0;34m(address)\u001b[0m\n\u001b[1;32m      2\u001b[0m \u001b[0;32mdef\u001b[0m \u001b[0mconnection\u001b[0m\u001b[0;34m(\u001b[0m\u001b[0maddress\u001b[0m\u001b[0;34m)\u001b[0m\u001b[0;34m:\u001b[0m\u001b[0;34m\u001b[0m\u001b[0;34m\u001b[0m\u001b[0m\n\u001b[1;32m      3\u001b[0m     \u001b[0;32mif\u001b[0m \u001b[0;32mnot\u001b[0m \u001b[0misinstance\u001b[0m\u001b[0;34m(\u001b[0m\u001b[0maddress\u001b[0m\u001b[0;34m,\u001b[0m \u001b[0mstr\u001b[0m\u001b[0;34m)\u001b[0m\u001b[0;34m:\u001b[0m\u001b[0;34m\u001b[0m\u001b[0;34m\u001b[0m\u001b[0m\n\u001b[0;32m----\u003e 4\u001b[0;31m         \u001b[0;32mraise\u001b[0m \u001b[0mValueError\u001b[0m\u001b[0;34m\u001b[0m\u001b[0;34m\u001b[0m\u001b[0m\n\u001b[0m\u001b[1;32m      5\u001b[0m \u001b[0;34m\u001b[0m\u001b[0m\n\u001b[1;32m      6\u001b[0m \u001b[0;34m\u001b[0m\u001b[0m\n",
            "\u001b[0;31mValueError\u001b[0m: "
          ],
          "ename": "ValueError",
          "evalue": "",
          "output_type": "error"
        }
      ],
      "source": "# This is considered a bad idea, because exception doesn\u0027t describe what is wrong\ndef connection(address):\n    if not isinstance(address, str):\n        raise ValueError\n\n\nconnection(10)\n",
      "metadata": {
        "pycharm": {
          "metadata": false,
          "name": "#%%\n",
          "is_executing": false
        }
      }
    },
    {
      "cell_type": "code",
      "execution_count": null,
      "outputs": [],
      "source": "# This is better\n\nclass BaseConnectionError(ValueError):\n    pass\n\nclass ConnectionAddressNotString(BaseConnectionError):\n    pass\n\nclass ConnectionAddressNotIPv6(BaseConnectionError):\n    pass\n\ndef connection(address):\n    if not isinstance(address, str):\n        raise ConnectionAddressNotString\n\ntry:\n    connection(\u0027127.0.0.1\u0027)\nexcept BaseConnectionError:\n    pass\n",
      "metadata": {
        "pycharm": {
          "metadata": false,
          "name": "#%%\n"
        }
      }
    },
    {
      "cell_type": "markdown",
      "source": "### Cloning objects\n* Shallow copy - Is only one level deep\n* Deep copy - Copies recursively\n\n#### Shallow copy",
      "metadata": {
        "pycharm": {
          "metadata": false,
          "name": "#%% md\n"
        }
      }
    },
    {
      "cell_type": "code",
      "execution_count": 22,
      "outputs": [
        {
          "name": "stdout",
          "text": [
            "[[1, 2, 3], [4, 5, 6], [7, 8, 9]]\n[[1, 2, 3], [4, 5, 6], [7, 8, 9]]\n\n[[1, 2, 3], [4, 5, 6], [7, 8, 9], [5555]]\n[[1, 2, 3], [4, 5, 6], [7, 8, 9]]\n\n[[1, 2, 3, 12345], [4, 5, 6], [7, 8, 9], [5555]]\n[[1, 2, 3, 12345], [4, 5, 6], [7, 8, 9]]\n"
          ],
          "output_type": "stream"
        }
      ],
      "source": "a \u003d [[1,2,3],[4,5,6],[7,8,9]]\nb \u003d list(a)\n# This makes only shallow copy\n# Same as copy.copy(a)\n\nprint(a)\nprint(b)\n\na.append([5555])\nprint()\n\nprint(a)\nprint(b)\n\na[0].append(12345)\nprint()\n\n# Both a and b are updated\nprint(a)\nprint(b)\n",
      "metadata": {
        "pycharm": {
          "metadata": false,
          "name": "#%%\n",
          "is_executing": false
        }
      }
    },
    {
      "cell_type": "markdown",
      "source": "#### Deep copy",
      "metadata": {
        "pycharm": {
          "metadata": false,
          "name": "#%% md\n"
        }
      }
    },
    {
      "cell_type": "code",
      "execution_count": 23,
      "outputs": [
        {
          "name": "stdout",
          "text": [
            "[[1, 2, 3], [4, 5, 6], [7, 8, 9]]\n[[1, 2, 3], [4, 5, 6], [7, 8, 9]]\n\n[[1, 2, 3], [4, 5, 6], [7, 8, 9], [5555]]\n[[1, 2, 3], [4, 5, 6], [7, 8, 9]]\n\n[[1, 2, 3, 12345], [4, 5, 6], [7, 8, 9], [5555]]\n[[1, 2, 3], [4, 5, 6], [7, 8, 9]]\n"
          ],
          "output_type": "stream"
        }
      ],
      "source": "import copy\n\na \u003d [[1,2,3],[4,5,6],[7,8,9]]\nb \u003d copy.deepcopy(a)\n\nprint(a)\nprint(b)\n\na.append([5555])\nprint()\n\nprint(a)\nprint(b)\n\na[0].append(12345)\nprint()\n\n# Both a and b are updated\nprint(a)\nprint(b)",
      "metadata": {
        "pycharm": {
          "metadata": false,
          "name": "#%%\n",
          "is_executing": false
        }
      }
    },
    {
      "cell_type": "markdown",
      "source": "#### With classes",
      "metadata": {
        "pycharm": {
          "metadata": false,
          "name": "#%% md\n"
        }
      }
    },
    {
      "cell_type": "code",
      "execution_count": 29,
      "outputs": [
        {
          "name": "stdout",
          "text": [
            "Library([Book(\u0027a\u0027), Book(\u0027b\u0027), Book(\u0027c\u0027)])\nLibrary([Book(\u0027a\u0027), Book(\u0027b\u0027), Book(\u0027c\u0027)])\n\nLibrary([Book(\u0027boook\u0027), Book(\u0027b\u0027), Book(\u0027c\u0027)])\nLibrary([Book(\u0027boook\u0027), Book(\u0027b\u0027), Book(\u0027c\u0027)])\n\nLibrary([Book(\u0027a\u0027), Book(\u0027b\u0027), Book(\u0027c\u0027)])\nLibrary([Book(\u0027a\u0027), Book(\u0027b\u0027), Book(\u0027c\u0027)])\n\nLibrary([Book(\u0027boook\u0027), Book(\u0027b\u0027), Book(\u0027c\u0027)])\nLibrary([Book(\u0027a\u0027), Book(\u0027b\u0027), Book(\u0027c\u0027)])\n"
          ],
          "output_type": "stream"
        }
      ],
      "source": "\nclass Book:\n    def __init__(self, name):\n        self.name \u003d name\n    \n    def __repr__(self):\n        return f\u0027Book({self.name!r})\u0027\n\nclass Library:\n    def __init__(self, books):\n        self.books \u003d books\n    \n    def __repr__(self):\n        return f\u0027Library({self.books!r})\u0027\n\n\nba \u003d Book(\u0027a\u0027)\nbb \u003d Book(\u0027b\u0027)\nbc \u003d Book(\u0027c\u0027)\n\nlib \u003d Library([ba, bb, bc])\nprint(lib)\n\nlib_b \u003d copy.copy(lib)\nprint(lib_b)\n\nprint()\n\nba.name \u003d \u0027boook\u0027\n\nprint(lib)\nprint(lib_b)\nprint()\n\n# Now deep copy\n\nba \u003d Book(\u0027a\u0027)\nbb \u003d Book(\u0027b\u0027)\nbc \u003d Book(\u0027c\u0027)\n\nlib \u003d Library([ba, bb, bc])\nprint(lib)\n\nlib_b \u003d copy.deepcopy(lib)\nprint(lib_b)\n\nprint()\n\nba.name \u003d \u0027boook\u0027\n\nprint(lib)\nprint(lib_b)\n\n",
      "metadata": {
        "pycharm": {
          "metadata": false,
          "name": "#%%\n",
          "is_executing": false
        }
      }
    },
    {
      "cell_type": "markdown",
      "source": "### Abstract Base Classes\n\nThis works but have some downsides",
      "metadata": {
        "pycharm": {
          "metadata": false,
          "name": "#%% md\n"
        }
      }
    },
    {
      "cell_type": "code",
      "execution_count": 32,
      "outputs": [
        {
          "traceback": [
            "\u001b[0;31m---------------------------------------------------------------------------\u001b[0m",
            "\u001b[0;31mNotImplementedError\u001b[0m                       Traceback (most recent call last)",
            "\u001b[0;32m\u003cipython-input-32-071c0937abc2\u003e\u001b[0m in \u001b[0;36m\u003cmodule\u003e\u001b[0;34m\u001b[0m\n\u001b[1;32m     16\u001b[0m \u001b[0mother\u001b[0m \u001b[0;34m\u003d\u001b[0m \u001b[0mOtherClass\u001b[0m\u001b[0;34m(\u001b[0m\u001b[0;34m)\u001b[0m\u001b[0;34m\u001b[0m\u001b[0;34m\u001b[0m\u001b[0m\n\u001b[1;32m     17\u001b[0m \u001b[0;31m# We still don\u0027t know if all methods are implemented here\u001b[0m\u001b[0;34m\u001b[0m\u001b[0;34m\u001b[0m\u001b[0;34m\u001b[0m\u001b[0m\n\u001b[0;32m---\u003e 18\u001b[0;31m \u001b[0mother\u001b[0m\u001b[0;34m.\u001b[0m\u001b[0mb\u001b[0m\u001b[0;34m(\u001b[0m\u001b[0;34m)\u001b[0m\u001b[0;34m\u001b[0m\u001b[0;34m\u001b[0m\u001b[0m\n\u001b[0m\u001b[1;32m     19\u001b[0m \u001b[0;34m\u001b[0m\u001b[0m\n\u001b[1;32m     20\u001b[0m \u001b[0;34m\u001b[0m\u001b[0m\n",
            "\u001b[0;32m\u003cipython-input-32-071c0937abc2\u003e\u001b[0m in \u001b[0;36mb\u001b[0;34m(self)\u001b[0m\n\u001b[1;32m      4\u001b[0m \u001b[0;34m\u001b[0m\u001b[0m\n\u001b[1;32m      5\u001b[0m     \u001b[0;32mdef\u001b[0m \u001b[0mb\u001b[0m\u001b[0;34m(\u001b[0m\u001b[0mself\u001b[0m\u001b[0;34m)\u001b[0m\u001b[0;34m:\u001b[0m\u001b[0;34m\u001b[0m\u001b[0;34m\u001b[0m\u001b[0m\n\u001b[0;32m----\u003e 6\u001b[0;31m         \u001b[0;32mraise\u001b[0m \u001b[0mNotImplementedError\u001b[0m\u001b[0;34m(\u001b[0m\u001b[0;34m)\u001b[0m\u001b[0;34m\u001b[0m\u001b[0;34m\u001b[0m\u001b[0m\n\u001b[0m\u001b[1;32m      7\u001b[0m \u001b[0;34m\u001b[0m\u001b[0m\n\u001b[1;32m      8\u001b[0m \u001b[0;32mclass\u001b[0m \u001b[0mOtherClass\u001b[0m\u001b[0;34m(\u001b[0m\u001b[0mBaseClass\u001b[0m\u001b[0;34m)\u001b[0m\u001b[0;34m:\u001b[0m\u001b[0;34m\u001b[0m\u001b[0;34m\u001b[0m\u001b[0m\n",
            "\u001b[0;31mNotImplementedError\u001b[0m: "
          ],
          "ename": "NotImplementedError",
          "evalue": "",
          "output_type": "error"
        }
      ],
      "source": "class BaseClass:\n    def a(self):\n        raise NotImplementedError()\n    \n    def b(self):\n        raise NotImplementedError()\n    \nclass OtherClass(BaseClass):\n    def a(self):\n        print(\u0027hello\u0027)\n\n\nbase \u003d BaseClass()\n# This is wrong\n\nother \u003d OtherClass()\n# We still don\u0027t know if all methods are implemented here\nother.b()\n\n",
      "metadata": {
        "pycharm": {
          "metadata": false,
          "name": "#%%\n",
          "is_executing": false
        }
      }
    },
    {
      "cell_type": "markdown",
      "source": "With use of ABCs\n",
      "metadata": {
        "pycharm": {
          "metadata": false,
          "name": "#%% md\n"
        }
      }
    },
    {
      "cell_type": "code",
      "execution_count": 34,
      "outputs": [
        {
          "traceback": [
            "\u001b[0;31m---------------------------------------------------------------------------\u001b[0m",
            "\u001b[0;31mTypeError\u001b[0m                                 Traceback (most recent call last)",
            "\u001b[0;32m\u003cipython-input-34-cbec762265de\u003e\u001b[0m in \u001b[0;36m\u003cmodule\u003e\u001b[0;34m\u001b[0m\n\u001b[1;32m     16\u001b[0m \u001b[0;34m\u001b[0m\u001b[0m\n\u001b[1;32m     17\u001b[0m \u001b[0;34m\u001b[0m\u001b[0m\n\u001b[0;32m---\u003e 18\u001b[0;31m \u001b[0mbase\u001b[0m \u001b[0;34m\u003d\u001b[0m \u001b[0mBaseClass\u001b[0m\u001b[0;34m(\u001b[0m\u001b[0;34m)\u001b[0m\u001b[0;34m\u001b[0m\u001b[0;34m\u001b[0m\u001b[0m\n\u001b[0m\u001b[1;32m     19\u001b[0m \u001b[0;31m# This explodes\u001b[0m\u001b[0;34m\u001b[0m\u001b[0;34m\u001b[0m\u001b[0;34m\u001b[0m\u001b[0m\n\u001b[1;32m     20\u001b[0m \u001b[0;34m\u001b[0m\u001b[0m\n",
            "\u001b[0;31mTypeError\u001b[0m: Can\u0027t instantiate abstract class BaseClass with abstract methods a, b"
          ],
          "ename": "TypeError",
          "evalue": "Can\u0027t instantiate abstract class BaseClass with abstract methods a, b",
          "output_type": "error"
        }
      ],
      "source": "\nfrom abc import ABCMeta, abstractmethod\n\nclass BaseClass(metaclass\u003dABCMeta):\n    @abstractmethod\n    def a(self):\n        pass\n    \n    @abstractmethod\n    def b(self):\n        pass\n    \nclass OtherClass(BaseClass):\n    def a(self):\n        print(\u0027Hello\u0027)\n\n\nbase \u003d BaseClass()\n# This explodes\n\nother \u003d OtherClass()\nother.a()\n# This explodes too\n",
      "metadata": {
        "pycharm": {
          "metadata": false,
          "name": "#%%\n",
          "is_executing": false
        }
      }
    },
    {
      "cell_type": "markdown",
      "source": "\n### Named tuples\n",
      "metadata": {
        "pycharm": {
          "metadata": false,
          "name": "#%% md\n"
        }
      }
    },
    {
      "cell_type": "code",
      "execution_count": 48,
      "outputs": [
        {
          "name": "stdout",
          "text": [
            "Apple(color\u003d\u0027red\u0027, size\u003d30)\nred\n30\nred\n30\nred\n30\nred 30\nFlyingApple(color\u003d\u0027red\u0027, size\u003d30)\nApple red flies\n(\u0027color\u0027, \u0027size\u0027)\nOrderedDict([(\u0027color\u0027, \u0027red\u0027), (\u0027size\u0027, 30)])\nFlyingApple(color\u003d\u0027blue\u0027, size\u003d30)\n"
          ],
          "output_type": "stream"
        }
      ],
      "source": "from collections import namedtuple\n\n# This is same thing\nApple \u003d namedtuple(\u0027Apple\u0027, [\u0027color\u0027, \u0027size\u0027])\nApple \u003d namedtuple(\u0027Apple\u0027, \u0027color size\u0027)\n\n\nred_apple \u003d Apple(\u0027red\u0027, 30)\nprint(red_apple)\nprint(red_apple.color)\nprint(red_apple.size)\n\nprint(red_apple[0])\nprint(red_apple[1])\n\ncolor, size \u003d red_apple\nprint(color)\nprint(size)\n\nprint(*red_apple)\n\n# red_apple.color \u003d \u0027blue\u0027\n# This explodes\n\n# You can even subclass Named tuples\nclass FlyingApple(Apple):\n    def fly(self):\n        print(f\u0027Apple {self.color} flies\u0027)\n        \nred_color_fly \u003d FlyingApple(\u0027red\u0027, 30)\nprint(red_color_fly)\nred_color_fly.fly()\n\nprint(red_color_fly._fields)\nprint(red_color_fly._asdict())\n\n# This creates new instance\nnew_apple \u003d red_color_fly._replace(color\u003d\u0027blue\u0027)\nprint(new_apple)\n\n# New instance from iterable\nnew_apple \u003d FlyingApple._make([\u0027blue\u0027, 40])\n",
      "metadata": {
        "pycharm": {
          "metadata": false,
          "name": "#%%\n",
          "is_executing": false
        }
      }
    },
    {
      "cell_type": "markdown",
      "source": "\n### Class and Instance variables\n\n*Class variables* are declared inside the class definition, but outside any instance methods\n*Instance variables* are always tied to a particular instance\n",
      "metadata": {
        "pycharm": {
          "metadata": false,
          "name": "#%% md\n"
        }
      }
    },
    {
      "cell_type": "code",
      "execution_count": 51,
      "outputs": [
        {
          "name": "stdout",
          "text": [
            "4\n4\n10\n10\n6\n10\n"
          ],
          "output_type": "stream"
        }
      ],
      "source": "\nclass Car:\n    num_wheels \u003d 4\n    # Class variable\n    \n    def __init__(self, color):\n        self.color \u003d color\n        # Instance variable\n        \ncar_a \u003d Car(\u0027red\u0027)\ncar_b \u003d Car(\u0027blue\u0027)\n\nprint(car_a.num_wheels)\nprint(car_b.num_wheels)\n\nCar.num_wheels \u003d 10\n\nprint(car_a.num_wheels)\nprint(car_b.num_wheels)\n\n# This creates instance variable which shadows class variable\n# This is slightly horrible\ncar_a.num_wheels \u003d 6\nprint(car_a.num_wheels)\nprint(car_a.__class__.num_wheels)\n",
      "metadata": {
        "pycharm": {
          "metadata": false,
          "name": "#%%\n",
          "is_executing": false
        }
      }
    },
    {
      "cell_type": "markdown",
      "source": "\n### Instance, Class and Static methods\n",
      "metadata": {
        "pycharm": {
          "metadata": false,
          "name": "#%% md\n"
        }
      }
    },
    {
      "cell_type": "code",
      "execution_count": 56,
      "outputs": [
        {
          "name": "stdout",
          "text": [
            "Car(\u0027blue\u0027, 300, \u0027BMW\u0027)\nCar(\u0027red\u0027, 100, \u0027Tatra\u0027)\n25.0\n"
          ],
          "output_type": "stream"
        }
      ],
      "source": "\nclass SomeClass:\n    \n    def instanceMethod(self):\n        # This is normal method\n        # You can reach instance through self\n        # And also class through self.__class__\n        pass\n    \n    @classmethod\n    def classMethod(cls):\n        # This can access only class, not instance\n        pass\n    \n    @staticmethod\n    def staticMethod():\n        # This can\u0027t reach class\n        # Static methods are primarily used for namespacing\n        # This can be reached as SomeClass.staticMethod()\n        # or instance_class.staticMethod()\n        pass\n    \nclass Car:\n    \n    def __init__(self, color, max_speed, brand):\n        self.color \u003d color\n        self.max_speed \u003d max_speed\n        self.brand \u003d brand\n        \n    def __repr__(self):\n        return f\u0027Car({self.color!r}, {self.max_speed!r}, {self.brand!r})\u0027\n    \n    @classmethod\n    def fast_car(cls):\n        return cls(\u0027blue\u0027, 300, \u0027BMW\u0027)\n    \n    @classmethod\n    def big_car(cls):\n        return cls(\u0027red\u0027, 100, \u0027Tatra\u0027)\n    \n    @staticmethod\n    def max_weight(speed):\n        return speed / 4\n    \nprint(Car.fast_car())\nprint(Car.big_car())\n\nprint(Car.max_weight(100))",
      "metadata": {
        "pycharm": {
          "metadata": false,
          "name": "#%%\n",
          "is_executing": false
        }
      }
    },
    {
      "cell_type": "markdown",
      "source": "\n### Common data structures in Python\n\n#### Dict\n\nAre indexed by keys, that must be hashable `__hash__` type and can be copared `__eq__`  \nTuples can be used as keys if all elements in tuple are hashable.  \nDicts are based on hash table and have O(1) complexity for lookup, insert and delete.\n\nOnly from Python 3.7.4 dicts are ordered by default.\nIf dict order is needed, use `collections.OrderedDict`\n\n",
      "metadata": {
        "pycharm": {
          "metadata": false,
          "name": "#%% md\n"
        }
      }
    },
    {
      "cell_type": "code",
      "execution_count": 61,
      "outputs": [
        {
          "name": "stdout",
          "text": [
            "1\n6\n"
          ],
          "output_type": "stream"
        },
        {
          "traceback": [
            "\u001b[0;31m---------------------------------------------------------------------------\u001b[0m",
            "\u001b[0;31mKeyError\u001b[0m                                  Traceback (most recent call last)",
            "\u001b[0;32m\u003cipython-input-61-59157e0a2456\u003e\u001b[0m in \u001b[0;36m\u003cmodule\u003e\u001b[0;34m\u001b[0m\n\u001b[1;32m     11\u001b[0m \u001b[0mprint\u001b[0m\u001b[0;34m(\u001b[0m\u001b[0mchain\u001b[0m\u001b[0;34m[\u001b[0m\u001b[0;34m\u0027a\u0027\u001b[0m\u001b[0;34m]\u001b[0m\u001b[0;34m)\u001b[0m\u001b[0;34m\u001b[0m\u001b[0;34m\u001b[0m\u001b[0m\n\u001b[1;32m     12\u001b[0m \u001b[0mprint\u001b[0m\u001b[0;34m(\u001b[0m\u001b[0mchain\u001b[0m\u001b[0;34m[\u001b[0m\u001b[0;34m\u0027f\u0027\u001b[0m\u001b[0;34m]\u001b[0m\u001b[0;34m)\u001b[0m\u001b[0;34m\u001b[0m\u001b[0;34m\u001b[0m\u001b[0m\n\u001b[0;32m---\u003e 13\u001b[0;31m \u001b[0mprint\u001b[0m\u001b[0;34m(\u001b[0m\u001b[0mchain\u001b[0m\u001b[0;34m[\u001b[0m\u001b[0;34m\u0027aaaa\u0027\u001b[0m\u001b[0;34m]\u001b[0m\u001b[0;34m)\u001b[0m\u001b[0;34m\u001b[0m\u001b[0;34m\u001b[0m\u001b[0m\n\u001b[0m\u001b[1;32m     14\u001b[0m \u001b[0;34m\u001b[0m\u001b[0m\n\u001b[1;32m     15\u001b[0m \u001b[0;32mfrom\u001b[0m \u001b[0mtypes\u001b[0m \u001b[0;32mimport\u001b[0m \u001b[0mMappingProxyType\u001b[0m\u001b[0;34m\u001b[0m\u001b[0;34m\u001b[0m\u001b[0m\n",
            "\u001b[0;32m/Library/Frameworks/Python.framework/Versions/3.6/lib/python3.6/collections/__init__.py\u001b[0m in \u001b[0;36m__getitem__\u001b[0;34m(self, key)\u001b[0m\n\u001b[1;32m    881\u001b[0m             \u001b[0;32mexcept\u001b[0m \u001b[0mKeyError\u001b[0m\u001b[0;34m:\u001b[0m\u001b[0;34m\u001b[0m\u001b[0;34m\u001b[0m\u001b[0m\n\u001b[1;32m    882\u001b[0m                 \u001b[0;32mpass\u001b[0m\u001b[0;34m\u001b[0m\u001b[0;34m\u001b[0m\u001b[0m\n\u001b[0;32m--\u003e 883\u001b[0;31m         \u001b[0;32mreturn\u001b[0m \u001b[0mself\u001b[0m\u001b[0;34m.\u001b[0m\u001b[0m__missing__\u001b[0m\u001b[0;34m(\u001b[0m\u001b[0mkey\u001b[0m\u001b[0;34m)\u001b[0m            \u001b[0;31m# support subclasses that define __missing__\u001b[0m\u001b[0;34m\u001b[0m\u001b[0;34m\u001b[0m\u001b[0m\n\u001b[0m\u001b[1;32m    884\u001b[0m \u001b[0;34m\u001b[0m\u001b[0m\n\u001b[1;32m    885\u001b[0m     \u001b[0;32mdef\u001b[0m \u001b[0mget\u001b[0m\u001b[0;34m(\u001b[0m\u001b[0mself\u001b[0m\u001b[0;34m,\u001b[0m \u001b[0mkey\u001b[0m\u001b[0;34m,\u001b[0m \u001b[0mdefault\u001b[0m\u001b[0;34m\u003d\u001b[0m\u001b[0;32mNone\u001b[0m\u001b[0;34m)\u001b[0m\u001b[0;34m:\u001b[0m\u001b[0;34m\u001b[0m\u001b[0;34m\u001b[0m\u001b[0m\n",
            "\u001b[0;32m/Library/Frameworks/Python.framework/Versions/3.6/lib/python3.6/collections/__init__.py\u001b[0m in \u001b[0;36m__missing__\u001b[0;34m(self, key)\u001b[0m\n\u001b[1;32m    873\u001b[0m \u001b[0;34m\u001b[0m\u001b[0m\n\u001b[1;32m    874\u001b[0m     \u001b[0;32mdef\u001b[0m \u001b[0m__missing__\u001b[0m\u001b[0;34m(\u001b[0m\u001b[0mself\u001b[0m\u001b[0;34m,\u001b[0m \u001b[0mkey\u001b[0m\u001b[0;34m)\u001b[0m\u001b[0;34m:\u001b[0m\u001b[0;34m\u001b[0m\u001b[0;34m\u001b[0m\u001b[0m\n\u001b[0;32m--\u003e 875\u001b[0;31m         \u001b[0;32mraise\u001b[0m \u001b[0mKeyError\u001b[0m\u001b[0;34m(\u001b[0m\u001b[0mkey\u001b[0m\u001b[0;34m)\u001b[0m\u001b[0;34m\u001b[0m\u001b[0;34m\u001b[0m\u001b[0m\n\u001b[0m\u001b[1;32m    876\u001b[0m \u001b[0;34m\u001b[0m\u001b[0m\n\u001b[1;32m    877\u001b[0m     \u001b[0;32mdef\u001b[0m \u001b[0m__getitem__\u001b[0m\u001b[0;34m(\u001b[0m\u001b[0mself\u001b[0m\u001b[0;34m,\u001b[0m \u001b[0mkey\u001b[0m\u001b[0;34m)\u001b[0m\u001b[0;34m:\u001b[0m\u001b[0;34m\u001b[0m\u001b[0;34m\u001b[0m\u001b[0m\n",
            "\u001b[0;31mKeyError\u001b[0m: \u0027aaaa\u0027"
          ],
          "ename": "KeyError",
          "evalue": "\u0027aaaa\u0027",
          "output_type": "error"
        }
      ],
      "source": "from collections import ChainMap\n\n# ChainMap groups multiple dicts into one\n\ndict_a \u003d {\u0027a\u0027: 1, \u0027b\u0027: 2}\ndict_b \u003d {\u0027c\u0027: 3, \u0027d\u0027: 4}\ndict_c \u003d {\u0027f\u0027: 6, \u0027a\u0027: 100}\n\nchain \u003d ChainMap(dict_a, dict_b, dict_c)\n\nprint(chain[\u0027a\u0027])\nprint(chain[\u0027f\u0027])\nprint(chain[\u0027aaaa\u0027])\n",
      "metadata": {
        "pycharm": {
          "metadata": false,
          "name": "#%%\n",
          "is_executing": false
        }
      }
    },
    {
      "cell_type": "code",
      "execution_count": 63,
      "outputs": [
        {
          "traceback": [
            "\u001b[0;31m---------------------------------------------------------------------------\u001b[0m",
            "\u001b[0;31mTypeError\u001b[0m                                 Traceback (most recent call last)",
            "\u001b[0;32m\u003cipython-input-63-4b6695529eb6\u003e\u001b[0m in \u001b[0;36m\u003cmodule\u003e\u001b[0;34m\u001b[0m\n\u001b[1;32m      4\u001b[0m \u001b[0mread_only_a\u001b[0m \u001b[0;34m\u003d\u001b[0m \u001b[0mMappingProxyType\u001b[0m\u001b[0;34m(\u001b[0m\u001b[0mdict_a\u001b[0m\u001b[0;34m)\u001b[0m\u001b[0;34m\u001b[0m\u001b[0;34m\u001b[0m\u001b[0m\n\u001b[1;32m      5\u001b[0m \u001b[0mread_only_a\u001b[0m\u001b[0;34m[\u001b[0m\u001b[0;34m\u0027a\u0027\u001b[0m\u001b[0;34m]\u001b[0m\u001b[0;34m\u001b[0m\u001b[0;34m\u001b[0m\u001b[0m\n\u001b[0;32m----\u003e 6\u001b[0;31m \u001b[0mread_only_a\u001b[0m\u001b[0;34m[\u001b[0m\u001b[0;34m\u0027a\u0027\u001b[0m\u001b[0;34m]\u001b[0m \u001b[0;34m\u003d\u001b[0m \u001b[0;36m33\u001b[0m\u001b[0;34m\u001b[0m\u001b[0;34m\u001b[0m\u001b[0m\n\u001b[0m\u001b[1;32m      7\u001b[0m \u001b[0;34m\u001b[0m\u001b[0m\n",
            "\u001b[0;31mTypeError\u001b[0m: \u0027mappingproxy\u0027 object does not support item assignment"
          ],
          "ename": "TypeError",
          "evalue": "\u0027mappingproxy\u0027 object does not support item assignment",
          "output_type": "error"
        }
      ],
      "source": "\nfrom types import MappingProxyType\n# MappingProxyType wraps dict and makes it read only\n\nread_only_a \u003d MappingProxyType(dict_a)\nprint(read_only_a[\u0027a\u0027])\nread_only_a[\u0027a\u0027] \u003d 33\n",
      "metadata": {
        "pycharm": {
          "metadata": false,
          "name": "#%%\n",
          "is_executing": false
        }
      }
    },
    {
      "cell_type": "markdown",
      "source": "#### `list` - Mutable Dynamic Array\nAre implemented as dynamic lists\n#### `tuple` - Immutable Containers\nElements can\u0027t be added or removed dynamically.  \nEverything must be defined at creation time\n#### `array.array` - Basic typed arrays\nSpace efficient storage of C-style data types.  \nArrays are mutable and behaves similarly to lists, except they are typed to same data type.\n",
      "metadata": {
        "pycharm": {
          "metadata": false,
          "name": "#%% md\n"
        }
      }
    },
    {
      "cell_type": "code",
      "execution_count": 67,
      "outputs": [
        {
          "name": "stdout",
          "text": [
            "array(\u0027f\u0027, [1.0, 2.200000047683716, 3.299999952316284])\narray(\u0027f\u0027, [10.0, 2.200000047683716, 3.299999952316284])\narray(\u0027f\u0027, [10.0, 2.200000047683716, 3.299999952316284, 55.0])\n"
          ],
          "output_type": "stream"
        }
      ],
      "source": "import array\n\narr_f \u003d array.array(\u0027f\u0027, [1.0, 2.2, 3.3])\nprint(arr_f)\narr_f[0] \u003d 10\nprint(arr_f)\narr_f.append(55)\nprint(arr_f)\n",
      "metadata": {
        "pycharm": {
          "metadata": false,
          "name": "#%%\n",
          "is_executing": false
        }
      }
    },
    {
      "cell_type": "markdown",
      "source": "#### `str` - Immutable Arrays of Unicode characters\nEach element is a single unicode character.  \nstr is immutable.\n",
      "metadata": {
        "pycharm": {
          "metadata": false,
          "name": "#%% md\n"
        }
      }
    },
    {
      "cell_type": "code",
      "execution_count": 70,
      "outputs": [
        {
          "name": "stdout",
          "text": [
            "abcdef\nb\n"
          ],
          "output_type": "stream"
        },
        {
          "traceback": [
            "\u001b[0;31m---------------------------------------------------------------------------\u001b[0m",
            "\u001b[0;31mTypeError\u001b[0m                                 Traceback (most recent call last)",
            "\u001b[0;32m\u003cipython-input-70-f62e539d88f9\u003e\u001b[0m in \u001b[0;36m\u003cmodule\u003e\u001b[0;34m\u001b[0m\n\u001b[1;32m      2\u001b[0m \u001b[0mprint\u001b[0m\u001b[0;34m(\u001b[0m\u001b[0marr\u001b[0m\u001b[0;34m)\u001b[0m\u001b[0;34m\u001b[0m\u001b[0;34m\u001b[0m\u001b[0m\n\u001b[1;32m      3\u001b[0m \u001b[0mprint\u001b[0m\u001b[0;34m(\u001b[0m\u001b[0marr\u001b[0m\u001b[0;34m[\u001b[0m\u001b[0;36m1\u001b[0m\u001b[0;34m]\u001b[0m\u001b[0;34m)\u001b[0m\u001b[0;34m\u001b[0m\u001b[0;34m\u001b[0m\u001b[0m\n\u001b[0;32m----\u003e 4\u001b[0;31m \u001b[0marr\u001b[0m\u001b[0;34m[\u001b[0m\u001b[0;36m1\u001b[0m\u001b[0;34m]\u001b[0m \u001b[0;34m\u003d\u001b[0m \u001b[0;34m\u0027g\u0027\u001b[0m\u001b[0;34m\u001b[0m\u001b[0;34m\u001b[0m\u001b[0m\n\u001b[0m\u001b[1;32m      5\u001b[0m \u001b[0;34m\u001b[0m\u001b[0m\n\u001b[1;32m      6\u001b[0m \u001b[0;34m\u001b[0m\u001b[0m\n",
            "\u001b[0;31mTypeError\u001b[0m: \u0027str\u0027 object does not support item assignment"
          ],
          "ename": "TypeError",
          "evalue": "\u0027str\u0027 object does not support item assignment",
          "output_type": "error"
        }
      ],
      "source": "arr \u003d \u0027abcdef\u0027\nprint(arr)\nprint(arr[1])\narr[1] \u003d \u0027g\u0027\n",
      "metadata": {
        "pycharm": {
          "metadata": false,
          "name": "#%%\n",
          "is_executing": false
        }
      }
    },
    {
      "cell_type": "markdown",
      "source": "#### `bytes` - Immutable arrays of single bytes\nCan store ints `0 \u003c\u003d x \u003c\u003d 255`. Bytes are space efficient.\n",
      "metadata": {
        "pycharm": {
          "metadata": false,
          "name": "#%% md\n"
        }
      }
    },
    {
      "cell_type": "code",
      "execution_count": 73,
      "outputs": [
        {
          "name": "stdout",
          "text": [
            "b\u0027\\x00\\x01\\x02\\x03\\x04\u0027\n2\n"
          ],
          "output_type": "stream"
        },
        {
          "traceback": [
            "\u001b[0;31m---------------------------------------------------------------------------\u001b[0m",
            "\u001b[0;31mValueError\u001b[0m                                Traceback (most recent call last)",
            "\u001b[0;32m\u003cipython-input-73-2987ebba3009\u003e\u001b[0m in \u001b[0;36m\u003cmodule\u003e\u001b[0;34m\u001b[0m\n\u001b[1;32m      3\u001b[0m \u001b[0mprint\u001b[0m\u001b[0;34m(\u001b[0m\u001b[0marr\u001b[0m\u001b[0;34m[\u001b[0m\u001b[0;36m2\u001b[0m\u001b[0;34m]\u001b[0m\u001b[0;34m)\u001b[0m\u001b[0;34m\u001b[0m\u001b[0;34m\u001b[0m\u001b[0m\n\u001b[1;32m      4\u001b[0m \u001b[0;34m\u001b[0m\u001b[0m\n\u001b[0;32m----\u003e 5\u001b[0;31m \u001b[0marr\u001b[0m \u001b[0;34m\u003d\u001b[0m \u001b[0mbytes\u001b[0m\u001b[0;34m(\u001b[0m\u001b[0;34m(\u001b[0m\u001b[0;36m1\u001b[0m\u001b[0;34m,\u001b[0m\u001b[0;36m2\u001b[0m\u001b[0;34m,\u001b[0m\u001b[0;36m3\u001b[0m\u001b[0;34m,\u001b[0m\u001b[0;36m444\u001b[0m\u001b[0;34m)\u001b[0m\u001b[0;34m)\u001b[0m\u001b[0;34m\u001b[0m\u001b[0;34m\u001b[0m\u001b[0m\n\u001b[0m\u001b[1;32m      6\u001b[0m \u001b[0;34m\u001b[0m\u001b[0m\n",
            "\u001b[0;31mValueError\u001b[0m: bytes must be in range(0, 256)"
          ],
          "ename": "ValueError",
          "evalue": "bytes must be in range(0, 256)",
          "output_type": "error"
        }
      ],
      "source": "arr \u003d bytes((0, 1, 2, 3, 4))\nprint(arr)\nprint(arr[2])\n\narr \u003d bytes((1,2,3,444))\n",
      "metadata": {
        "pycharm": {
          "metadata": false,
          "name": "#%%\n",
          "is_executing": false
        }
      }
    },
    {
      "cell_type": "markdown",
      "source": "#### `bytearray` - Mutable Arrays of Single bytes\nVery similar to bytes, but can be modified",
      "metadata": {
        "pycharm": {
          "metadata": false,
          "name": "#%% md\n"
        }
      }
    },
    {
      "cell_type": "code",
      "execution_count": 80,
      "outputs": [
        {
          "name": "stdout",
          "text": [
            "bytearray(b\u0027\\x01\\x02\\x03\\x04\u0027)\nbytearray(b\u0027\\x01\\x04\\x03\\x04\u0027)\nbytearray(b\u0027\\x01\\x04\\x03\\x04\\n\u0027)\nb\u0027\\x01\\x04\\x03\\x04\\n\u0027\n"
          ],
          "output_type": "stream"
        }
      ],
      "source": "\narr \u003d bytearray((1,2,3,4))\nprint(arr)\n\narr[1] \u003d 4\nprint(arr)\n\narr.append(10)\nprint(arr)\n\n# Can be converted to bytes\nprint(bytes(arr))\n",
      "metadata": {
        "pycharm": {
          "metadata": false,
          "name": "#%%\n",
          "is_executing": false
        }
      }
    },
    {
      "cell_type": "markdown",
      "source": "#### `Struct` - Converts data between C structs and Python",
      "metadata": {
        "pycharm": {
          "metadata": false,
          "name": "#%% md\n"
        }
      }
    },
    {
      "cell_type": "code",
      "execution_count": 83,
      "outputs": [
        {
          "name": "stdout",
          "text": [
            "b\u0027d\\x00\\x00\\x00\\x01\\x00\\x00\\x0033\\xdeB\u0027\n(100, True, 111.0999984741211)\n"
          ],
          "output_type": "stream"
        }
      ],
      "source": "from struct import Struct\n\nMy_struct \u003d Struct(\u0027i?f\u0027)\n\ndata \u003d My_struct.pack(100, True, 111.1)\n\nprint(data)\n\nprint(My_struct.unpack(data))\n",
      "metadata": {
        "pycharm": {
          "metadata": false,
          "name": "#%%\n",
          "is_executing": false
        }
      }
    },
    {
      "cell_type": "markdown",
      "source": "### Sets and Multisets\nSet is and unordered collection of object that not allow duplicate element.  \n\n#### Standard set",
      "metadata": {
        "pycharm": {
          "metadata": false,
          "name": "#%% md\n"
        }
      }
    },
    {
      "cell_type": "code",
      "execution_count": null,
      "outputs": [],
      "source": "chars \u003d {\u0027a\u0027, \u0027b\u0027, \u0027c\u0027, \u0027d\u0027}\nprint(chars)\nprint(\u0027a\u0027 in chars)\n\nanother_chars \u003d set(\u0027mnbvvca\u0027)\nprint(another_chars)\nprint(another_chars.intersection(chars))\n\nchars.add(\u0027r\u0027)",
      "metadata": {
        "pycharm": {
          "metadata": false,
          "name": "#%%\n"
        }
      }
    },
    {
      "cell_type": "markdown",
      "source": "\n#### Frozen Set\nImmutable set",
      "metadata": {
        "pycharm": {
          "metadata": false,
          "name": "#%% md\n"
        }
      }
    },
    {
      "cell_type": "code",
      "execution_count": 90,
      "outputs": [
        {
          "name": "stdout",
          "text": [
            "frozenset({\u0027c\u0027, \u0027b\u0027, \u0027a\u0027})\n"
          ],
          "output_type": "stream"
        },
        {
          "traceback": [
            "\u001b[0;31m---------------------------------------------------------------------------\u001b[0m",
            "\u001b[0;31mAttributeError\u001b[0m                            Traceback (most recent call last)",
            "\u001b[0;32m\u003cipython-input-90-65836a0593bf\u003e\u001b[0m in \u001b[0;36m\u003cmodule\u003e\u001b[0;34m\u001b[0m\n\u001b[1;32m      2\u001b[0m \u001b[0mchars_frozen\u001b[0m \u001b[0;34m\u003d\u001b[0m \u001b[0mfrozenset\u001b[0m\u001b[0;34m(\u001b[0m\u001b[0;34m{\u001b[0m\u001b[0;34m\u0027a\u0027\u001b[0m\u001b[0;34m,\u001b[0m \u001b[0;34m\u0027a\u0027\u001b[0m\u001b[0;34m,\u001b[0m \u001b[0;34m\u0027b\u0027\u001b[0m\u001b[0;34m,\u001b[0m \u001b[0;34m\u0027c\u0027\u001b[0m\u001b[0;34m}\u001b[0m\u001b[0;34m)\u001b[0m\u001b[0;34m\u001b[0m\u001b[0;34m\u001b[0m\u001b[0m\n\u001b[1;32m      3\u001b[0m \u001b[0mprint\u001b[0m\u001b[0;34m(\u001b[0m\u001b[0mchars_frozen\u001b[0m\u001b[0;34m)\u001b[0m\u001b[0;34m\u001b[0m\u001b[0;34m\u001b[0m\u001b[0m\n\u001b[0;32m----\u003e 4\u001b[0;31m \u001b[0mchars_frozen\u001b[0m\u001b[0;34m.\u001b[0m\u001b[0madd\u001b[0m\u001b[0;34m(\u001b[0m\u001b[0;34m\u0027a\u0027\u001b[0m\u001b[0;34m)\u001b[0m\u001b[0;34m\u001b[0m\u001b[0;34m\u001b[0m\u001b[0m\n\u001b[0m\u001b[1;32m      5\u001b[0m \u001b[0;34m\u001b[0m\u001b[0m\n\u001b[1;32m      6\u001b[0m \u001b[0;34m\u001b[0m\u001b[0m\n",
            "\u001b[0;31mAttributeError\u001b[0m: \u0027frozenset\u0027 object has no attribute \u0027add\u0027"
          ],
          "ename": "AttributeError",
          "evalue": "\u0027frozenset\u0027 object has no attribute \u0027add\u0027",
          "output_type": "error"
        }
      ],
      "source": "\nchars_frozen \u003d frozenset({\u0027a\u0027, \u0027a\u0027, \u0027b\u0027, \u0027c\u0027})\nprint(chars_frozen)\nchars_frozen.add(\u0027a\u0027)",
      "metadata": {
        "pycharm": {
          "metadata": false,
          "name": "#%%\n",
          "is_executing": false
        }
      }
    },
    {
      "cell_type": "markdown",
      "source": "#### `collections.Counter` - Multiset",
      "metadata": {
        "pycharm": {
          "metadata": false,
          "name": "#%% md\n"
        }
      }
    },
    {
      "cell_type": "code",
      "execution_count": 95,
      "outputs": [
        {
          "name": "stdout",
          "text": [
            "Counter({\u0027b\u0027: 3, \u0027a\u0027: 1})\nCounter({\u0027a\u0027: 7, \u0027b\u0027: 6})\n2\n13\n"
          ],
          "output_type": "stream"
        }
      ],
      "source": "\nfrom collections import Counter\n\ntools \u003d Counter()\ntools.update({\u0027a\u0027: 1, \u0027b\u0027: 3})\nprint(tools)\ntools.update({\u0027a\u0027: 6, \u0027b\u0027: 3})\nprint(tools)\n\nprint(len(tools))\n# Number of unique elements\n\nprint(sum(tools.values()))\n# Sum of all values\n",
      "metadata": {
        "pycharm": {
          "metadata": false,
          "name": "#%% \n",
          "is_executing": false
        }
      }
    },
    {
      "cell_type": "markdown",
      "source": "### Stacks (LIFO)\n\n#### List\nSimple built in stack\nIs implemented as dynamic array which over allocates space. Therefore offers O(1) most of the time.\nPerformance can be inconsistent.\nOffers fast O(1) access time.\nTo get O(1) data must be added to the end (`append()`) and removed also from end (`pop()`).\nAdding and removing from front can be O(n)\n",
      "metadata": {
        "pycharm": {
          "metadata": false,
          "name": "#%% md\n"
        }
      }
    },
    {
      "cell_type": "code",
      "execution_count": 98,
      "outputs": [
        {
          "name": "stdout",
          "text": [
            "[\u0027a\u0027, \u0027b\u0027, \u0027c\u0027]\nc\nb\na\n"
          ],
          "output_type": "stream"
        },
        {
          "traceback": [
            "\u001b[0;31m---------------------------------------------------------------------------\u001b[0m",
            "\u001b[0;31mIndexError\u001b[0m                                Traceback (most recent call last)",
            "\u001b[0;32m\u003cipython-input-98-845a2c43f95c\u003e\u001b[0m in \u001b[0;36m\u003cmodule\u003e\u001b[0;34m\u001b[0m\n\u001b[1;32m      9\u001b[0m \u001b[0mprint\u001b[0m\u001b[0;34m(\u001b[0m\u001b[0mstack\u001b[0m\u001b[0;34m.\u001b[0m\u001b[0mpop\u001b[0m\u001b[0;34m(\u001b[0m\u001b[0;34m)\u001b[0m\u001b[0;34m)\u001b[0m\u001b[0;34m\u001b[0m\u001b[0;34m\u001b[0m\u001b[0m\n\u001b[1;32m     10\u001b[0m \u001b[0mprint\u001b[0m\u001b[0;34m(\u001b[0m\u001b[0mstack\u001b[0m\u001b[0;34m.\u001b[0m\u001b[0mpop\u001b[0m\u001b[0;34m(\u001b[0m\u001b[0;34m)\u001b[0m\u001b[0;34m)\u001b[0m\u001b[0;34m\u001b[0m\u001b[0;34m\u001b[0m\u001b[0m\n\u001b[0;32m---\u003e 11\u001b[0;31m \u001b[0mprint\u001b[0m\u001b[0;34m(\u001b[0m\u001b[0mstack\u001b[0m\u001b[0;34m.\u001b[0m\u001b[0mpop\u001b[0m\u001b[0;34m(\u001b[0m\u001b[0;34m)\u001b[0m\u001b[0;34m)\u001b[0m\u001b[0;34m\u001b[0m\u001b[0;34m\u001b[0m\u001b[0m\n\u001b[0m\u001b[1;32m     12\u001b[0m \u001b[0;34m\u001b[0m\u001b[0m\n",
            "\u001b[0;31mIndexError\u001b[0m: pop from empty list"
          ],
          "ename": "IndexError",
          "evalue": "pop from empty list",
          "output_type": "error"
        }
      ],
      "source": "stack \u003d []\nstack.append(\u0027a\u0027)\nstack.append(\u0027b\u0027)\nstack.append(\u0027c\u0027)\n\nprint(stack)\n\nprint(stack.pop())\nprint(stack.pop())\nprint(stack.pop())\nprint(stack.pop())\n",
      "metadata": {
        "pycharm": {
          "metadata": false,
          "name": "#%%\n",
          "is_executing": false
        }
      }
    },
    {
      "cell_type": "markdown",
      "source": "#### `collections.deque` - Fast and robust stacks\nDouble-ended queue that supports adding and removing elements with O(1)\n",
      "metadata": {
        "pycharm": {
          "metadata": false,
          "name": "#%% md\n"
        }
      }
    },
    {
      "cell_type": "code",
      "execution_count": 101,
      "outputs": [
        {
          "name": "stdout",
          "text": [
            "deque([\u0027a\u0027, \u0027b\u0027, \u0027c\u0027])\nc\nb\na\n"
          ],
          "output_type": "stream"
        },
        {
          "traceback": [
            "\u001b[0;31m---------------------------------------------------------------------------\u001b[0m",
            "\u001b[0;31mIndexError\u001b[0m                                Traceback (most recent call last)",
            "\u001b[0;32m\u003cipython-input-101-08da6d2dd233\u003e\u001b[0m in \u001b[0;36m\u003cmodule\u003e\u001b[0;34m\u001b[0m\n\u001b[1;32m     11\u001b[0m \u001b[0mprint\u001b[0m\u001b[0;34m(\u001b[0m\u001b[0mstack\u001b[0m\u001b[0;34m.\u001b[0m\u001b[0mpop\u001b[0m\u001b[0;34m(\u001b[0m\u001b[0;34m)\u001b[0m\u001b[0;34m)\u001b[0m\u001b[0;34m\u001b[0m\u001b[0;34m\u001b[0m\u001b[0m\n\u001b[1;32m     12\u001b[0m \u001b[0mprint\u001b[0m\u001b[0;34m(\u001b[0m\u001b[0mstack\u001b[0m\u001b[0;34m.\u001b[0m\u001b[0mpop\u001b[0m\u001b[0;34m(\u001b[0m\u001b[0;34m)\u001b[0m\u001b[0;34m)\u001b[0m\u001b[0;34m\u001b[0m\u001b[0;34m\u001b[0m\u001b[0m\n\u001b[0;32m---\u003e 13\u001b[0;31m \u001b[0mprint\u001b[0m\u001b[0;34m(\u001b[0m\u001b[0mstack\u001b[0m\u001b[0;34m.\u001b[0m\u001b[0mpop\u001b[0m\u001b[0;34m(\u001b[0m\u001b[0;34m)\u001b[0m\u001b[0;34m)\u001b[0m\u001b[0;34m\u001b[0m\u001b[0;34m\u001b[0m\u001b[0m\n\u001b[0m\u001b[1;32m     14\u001b[0m \u001b[0;34m\u001b[0m\u001b[0m\n\u001b[1;32m     15\u001b[0m \u001b[0;34m\u001b[0m\u001b[0m\n",
            "\u001b[0;31mIndexError\u001b[0m: pop from an empty deque"
          ],
          "ename": "IndexError",
          "evalue": "pop from an empty deque",
          "output_type": "error"
        }
      ],
      "source": "from collections import deque\n\nstack \u003d deque()\nstack.append(\u0027a\u0027)\nstack.append(\u0027b\u0027)\nstack.append(\u0027c\u0027)\n\nprint(stack)\n\nprint(stack.pop())\nprint(stack.pop())\nprint(stack.pop())\nprint(stack.pop())\n",
      "metadata": {
        "pycharm": {
          "metadata": false,
          "name": "#%% \n",
          "is_executing": false
        }
      }
    },
    {
      "cell_type": "markdown",
      "source": "#### `queue.LifoQueue` - Synchronized queue for parallel computing\nSupports multiple concurrent consumers and producers\n",
      "metadata": {
        "pycharm": {
          "metadata": false,
          "name": "#%% md\n"
        }
      }
    },
    {
      "cell_type": "code",
      "execution_count": 106,
      "outputs": [
        {
          "name": "stdout",
          "text": [
            "\u003cqueue.LifoQueue object at 0x105e72390\u003e\nc\nb\na\n"
          ],
          "output_type": "stream"
        },
        {
          "traceback": [
            "\u001b[0;31m---------------------------------------------------------------------------\u001b[0m",
            "\u001b[0;31mEmpty\u001b[0m                                     Traceback (most recent call last)",
            "\u001b[0;32m\u003cipython-input-106-483c904bfdda\u003e\u001b[0m in \u001b[0;36m\u003cmodule\u003e\u001b[0;34m\u001b[0m\n\u001b[1;32m     11\u001b[0m \u001b[0mprint\u001b[0m\u001b[0;34m(\u001b[0m\u001b[0mstack\u001b[0m\u001b[0;34m.\u001b[0m\u001b[0mget\u001b[0m\u001b[0;34m(\u001b[0m\u001b[0;34m)\u001b[0m\u001b[0;34m)\u001b[0m\u001b[0;34m\u001b[0m\u001b[0;34m\u001b[0m\u001b[0m\n\u001b[1;32m     12\u001b[0m \u001b[0mprint\u001b[0m\u001b[0;34m(\u001b[0m\u001b[0mstack\u001b[0m\u001b[0;34m.\u001b[0m\u001b[0mget\u001b[0m\u001b[0;34m(\u001b[0m\u001b[0;34m)\u001b[0m\u001b[0;34m)\u001b[0m\u001b[0;34m\u001b[0m\u001b[0;34m\u001b[0m\u001b[0m\n\u001b[0;32m---\u003e 13\u001b[0;31m \u001b[0mprint\u001b[0m\u001b[0;34m(\u001b[0m\u001b[0mstack\u001b[0m\u001b[0;34m.\u001b[0m\u001b[0mget_nowait\u001b[0m\u001b[0;34m(\u001b[0m\u001b[0;34m)\u001b[0m\u001b[0;34m)\u001b[0m\u001b[0;34m\u001b[0m\u001b[0;34m\u001b[0m\u001b[0m\n\u001b[0m\u001b[1;32m     14\u001b[0m \u001b[0;34m\u001b[0m\u001b[0m\n",
            "\u001b[0;32m/Library/Frameworks/Python.framework/Versions/3.6/lib/python3.6/queue.py\u001b[0m in \u001b[0;36mget_nowait\u001b[0;34m(self)\u001b[0m\n\u001b[1;32m    190\u001b[0m         \u001b[0;32mraise\u001b[0m \u001b[0mthe\u001b[0m \u001b[0mEmpty\u001b[0m \u001b[0mexception\u001b[0m\u001b[0;34m.\u001b[0m\u001b[0;34m\u001b[0m\u001b[0;34m\u001b[0m\u001b[0m\n\u001b[1;32m    191\u001b[0m         \u0027\u0027\u0027\n\u001b[0;32m--\u003e 192\u001b[0;31m         \u001b[0;32mreturn\u001b[0m \u001b[0mself\u001b[0m\u001b[0;34m.\u001b[0m\u001b[0mget\u001b[0m\u001b[0;34m(\u001b[0m\u001b[0mblock\u001b[0m\u001b[0;34m\u003d\u001b[0m\u001b[0;32mFalse\u001b[0m\u001b[0;34m)\u001b[0m\u001b[0;34m\u001b[0m\u001b[0;34m\u001b[0m\u001b[0m\n\u001b[0m\u001b[1;32m    193\u001b[0m \u001b[0;34m\u001b[0m\u001b[0m\n\u001b[1;32m    194\u001b[0m     \u001b[0;31m# Override these methods to implement other queue organizations\u001b[0m\u001b[0;34m\u001b[0m\u001b[0;34m\u001b[0m\u001b[0;34m\u001b[0m\u001b[0m\n",
            "\u001b[0;32m/Library/Frameworks/Python.framework/Versions/3.6/lib/python3.6/queue.py\u001b[0m in \u001b[0;36mget\u001b[0;34m(self, block, timeout)\u001b[0m\n\u001b[1;32m    159\u001b[0m             \u001b[0;32mif\u001b[0m \u001b[0;32mnot\u001b[0m \u001b[0mblock\u001b[0m\u001b[0;34m:\u001b[0m\u001b[0;34m\u001b[0m\u001b[0;34m\u001b[0m\u001b[0m\n\u001b[1;32m    160\u001b[0m                 \u001b[0;32mif\u001b[0m \u001b[0;32mnot\u001b[0m \u001b[0mself\u001b[0m\u001b[0;34m.\u001b[0m\u001b[0m_qsize\u001b[0m\u001b[0;34m(\u001b[0m\u001b[0;34m)\u001b[0m\u001b[0;34m:\u001b[0m\u001b[0;34m\u001b[0m\u001b[0;34m\u001b[0m\u001b[0m\n\u001b[0;32m--\u003e 161\u001b[0;31m                     \u001b[0;32mraise\u001b[0m \u001b[0mEmpty\u001b[0m\u001b[0;34m\u001b[0m\u001b[0;34m\u001b[0m\u001b[0m\n\u001b[0m\u001b[1;32m    162\u001b[0m             \u001b[0;32melif\u001b[0m \u001b[0mtimeout\u001b[0m \u001b[0;32mis\u001b[0m \u001b[0;32mNone\u001b[0m\u001b[0;34m:\u001b[0m\u001b[0;34m\u001b[0m\u001b[0;34m\u001b[0m\u001b[0m\n\u001b[1;32m    163\u001b[0m                 \u001b[0;32mwhile\u001b[0m \u001b[0;32mnot\u001b[0m \u001b[0mself\u001b[0m\u001b[0;34m.\u001b[0m\u001b[0m_qsize\u001b[0m\u001b[0;34m(\u001b[0m\u001b[0;34m)\u001b[0m\u001b[0;34m:\u001b[0m\u001b[0;34m\u001b[0m\u001b[0;34m\u001b[0m\u001b[0m\n",
            "\u001b[0;31mEmpty\u001b[0m: "
          ],
          "ename": "Empty",
          "evalue": "",
          "output_type": "error"
        }
      ],
      "source": "from queue import LifoQueue\n\nstack \u003d LifoQueue()\nstack.put(\u0027a\u0027)\nstack.put(\u0027b\u0027)\nstack.put(\u0027c\u0027)\n\nprint(stack)\n\nprint(stack.get())\nprint(stack.get())\nprint(stack.get())\nprint(stack.get_nowait())\n",
      "metadata": {
        "pycharm": {
          "metadata": false,
          "name": "#%%\n",
          "is_executing": false
        }
      }
    },
    {
      "cell_type": "markdown",
      "source": "\nSummary :\n* `list` - Backed by dynamic array - great for random access, but sometimes reallocates. You shold access only items on end for O(1)\n* `deque` - Double linked list - Consistent O(1)\n\n### Queues (FIFO)\n\n#### `list` - Really slow fifo\nDynamically allocated array - shoud be avoided for FIFO\n",
      "metadata": {
        "pycharm": {
          "metadata": false,
          "name": "#%% md\n"
        }
      }
    },
    {
      "cell_type": "code",
      "execution_count": 108,
      "outputs": [
        {
          "name": "stdout",
          "text": [
            "[\u0027a\u0027, \u0027b\u0027, \u0027c\u0027]\na\nb\nc\n"
          ],
          "output_type": "stream"
        }
      ],
      "source": "\nq \u003d []\nq.append(\u0027a\u0027)\nq.append(\u0027b\u0027)\nq.append(\u0027c\u0027)\n\nprint(q)\n\nprint(q.pop(0))\nprint(q.pop(0))\nprint(q.pop(0))\n",
      "metadata": {
        "pycharm": {
          "metadata": false,
          "name": "#%% \n",
          "is_executing": false
        }
      }
    },
    {
      "cell_type": "markdown",
      "source": "#### `collections.deque` - Can be used as queue\nDouble linked list. O(1) for accessing ends O(n) for random access in array\n",
      "metadata": {
        "pycharm": {
          "metadata": false
        }
      }
    },
    {
      "cell_type": "code",
      "execution_count": 110,
      "outputs": [
        {
          "name": "stdout",
          "text": [
            "deque([\u0027a\u0027, \u0027b\u0027, \u0027c\u0027])\na\nb\nc\n"
          ],
          "output_type": "stream"
        },
        {
          "traceback": [
            "\u001b[0;31m---------------------------------------------------------------------------\u001b[0m",
            "\u001b[0;31mIndexError\u001b[0m                                Traceback (most recent call last)",
            "\u001b[0;32m\u003cipython-input-110-20bedb0f4cb2\u003e\u001b[0m in \u001b[0;36m\u003cmodule\u003e\u001b[0;34m\u001b[0m\n\u001b[1;32m     11\u001b[0m \u001b[0mprint\u001b[0m\u001b[0;34m(\u001b[0m\u001b[0mq\u001b[0m\u001b[0;34m.\u001b[0m\u001b[0mpopleft\u001b[0m\u001b[0;34m(\u001b[0m\u001b[0;34m)\u001b[0m\u001b[0;34m)\u001b[0m\u001b[0;34m\u001b[0m\u001b[0;34m\u001b[0m\u001b[0m\n\u001b[1;32m     12\u001b[0m \u001b[0mprint\u001b[0m\u001b[0;34m(\u001b[0m\u001b[0mq\u001b[0m\u001b[0;34m.\u001b[0m\u001b[0mpopleft\u001b[0m\u001b[0;34m(\u001b[0m\u001b[0;34m)\u001b[0m\u001b[0;34m)\u001b[0m\u001b[0;34m\u001b[0m\u001b[0;34m\u001b[0m\u001b[0m\n\u001b[0;32m---\u003e 13\u001b[0;31m \u001b[0mprint\u001b[0m\u001b[0;34m(\u001b[0m\u001b[0mq\u001b[0m\u001b[0;34m.\u001b[0m\u001b[0mpopleft\u001b[0m\u001b[0;34m(\u001b[0m\u001b[0;34m)\u001b[0m\u001b[0;34m)\u001b[0m\u001b[0;34m\u001b[0m\u001b[0;34m\u001b[0m\u001b[0m\n\u001b[0m\u001b[1;32m     14\u001b[0m \u001b[0;34m\u001b[0m\u001b[0m\n",
            "\u001b[0;31mIndexError\u001b[0m: pop from an empty deque"
          ],
          "ename": "IndexError",
          "evalue": "pop from an empty deque",
          "output_type": "error"
        }
      ],
      "source": "from collections import deque\n\nq \u003d deque()\nq.append(\u0027a\u0027)\nq.append(\u0027b\u0027)\nq.append(\u0027c\u0027)\n\nprint(q)\n\nprint(q.popleft())\nprint(q.popleft())\nprint(q.popleft())\nprint(q.popleft())\n",
      "metadata": {
        "pycharm": {
          "metadata": false,
          "name": "#%%\n",
          "is_executing": false
        }
      }
    },
    {
      "cell_type": "markdown",
      "source": "#### `queue.Queue` - Synchronized for parallel computing",
      "metadata": {
        "pycharm": {
          "metadata": false,
          "name": "#%% md\n"
        }
      }
    },
    {
      "cell_type": "code",
      "execution_count": 113,
      "outputs": [
        {
          "name": "stdout",
          "text": [
            "\u003cqueue.Queue object at 0x105e72630\u003e\na\nb\nc\n"
          ],
          "output_type": "stream"
        }
      ],
      "source": "from queue import Queue\n\nq \u003d Queue()\nq.put(\u0027a\u0027)\nq.put(\u0027b\u0027)\nq.put(\u0027c\u0027)\n\nprint(q)\n\nprint(q.get())\nprint(q.get())\nprint(q.get())\n",
      "metadata": {
        "pycharm": {
          "metadata": false,
          "name": "#%%\n",
          "is_executing": false
        }
      }
    },
    {
      "cell_type": "markdown",
      "source": "#### `mutliprocessing.Queue` - Shared job queue\nSpecial queue for multiprocessing.  \nCan transfer anything Picklable.  ",
      "metadata": {
        "pycharm": {
          "metadata": false,
          "name": "#%% md\n"
        }
      }
    },
    {
      "cell_type": "code",
      "execution_count": 115,
      "outputs": [
        {
          "name": "stdout",
          "text": [
            "\u003cmultiprocessing.queues.Queue object at 0x1049bc438\u003e\na\nb\nc\n"
          ],
          "output_type": "stream"
        }
      ],
      "source": "from multiprocessing import Queue\n\nq \u003d Queue()\nq.put(\u0027a\u0027)\nq.put(\u0027b\u0027)\nq.put(\u0027c\u0027)\n\nprint(q)\n\nprint(q.get())\nprint(q.get())\nprint(q.get())\n",
      "metadata": {
        "pycharm": {
          "metadata": false,
          "name": "#%%\n",
          "is_executing": false
        }
      }
    },
    {
      "cell_type": "markdown",
      "source": "### Priority queues\nSomething like normal Queue, but returns highest priority element, not the last one\n\n#### `list` - Manually sorting\nSlow but usable. Must be manually resorted after isertion.",
      "metadata": {
        "pycharm": {
          "metadata": false,
          "name": "#%% md\n"
        }
      }
    },
    {
      "cell_type": "code",
      "execution_count": 118,
      "outputs": [
        {
          "name": "stdout",
          "text": [
            "(10, \u0027a\u0027)\n(20, \u0027d\u0027)\n(30, \u0027b\u0027)\n(60, \u0027c\u0027)\n"
          ],
          "output_type": "stream"
        }
      ],
      "source": "\nq \u003d []\n\nq.append((20, \u0027d\u0027))\nq.append((10, \u0027a\u0027))\nq.append((30, \u0027b\u0027))\nq.append((60, \u0027c\u0027))\n\n\nq.sort(reverse\u003dTrue)\n\nprint(q.pop())\nprint(q.pop())\nprint(q.pop())\nprint(q.pop())\n",
      "metadata": {
        "pycharm": {
          "metadata": false,
          "name": "#%%\n",
          "is_executing": false
        }
      }
    },
    {
      "cell_type": "markdown",
      "source": "#### `heapq` - List based binary heaps\nSupports insertion and extraction at O(log n)",
      "metadata": {
        "pycharm": {
          "metadata": false,
          "name": "#%% md\n"
        }
      }
    },
    {
      "cell_type": "code",
      "execution_count": 121,
      "outputs": [
        {
          "name": "stdout",
          "text": [
            "[(20, \u0027a\u0027), (60, \u0027c\u0027), (30, \u0027b\u0027), (80, \u0027d\u0027)]\n(20, \u0027a\u0027)\n(30, \u0027b\u0027)\n(60, \u0027c\u0027)\n(80, \u0027d\u0027)\n"
          ],
          "output_type": "stream"
        }
      ],
      "source": "\nimport heapq\n\nq \u003d []\n\nheapq.heappush(q, (80, \u0027d\u0027))\nheapq.heappush(q, (20, \u0027a\u0027))\nheapq.heappush(q, (30, \u0027b\u0027))\nheapq.heappush(q, (60, \u0027c\u0027))\n\nprint(q)\n\nprint(heapq.heappop(q))\nprint(heapq.heappop(q))\nprint(heapq.heappop(q))\nprint(heapq.heappop(q))\n",
      "metadata": {
        "pycharm": {
          "metadata": false,
          "name": "#%%\n",
          "is_executing": false
        }
      }
    },
    {
      "cell_type": "markdown",
      "source": "#### `queue.PriorityQueue` - Beutiful Priority queue\nUses `heapq` internally but supports multiple producers and consumers.  \nOffers class based interface, opposed to `heapq`\n",
      "metadata": {
        "pycharm": {
          "metadata": false,
          "name": "#%% md\n"
        }
      }
    },
    {
      "cell_type": "code",
      "execution_count": 123,
      "outputs": [
        {
          "name": "stdout",
          "text": [
            "\u003cqueue.PriorityQueue object at 0x1049cf978\u003e\n(20, \u0027b\u0027)\n(30, \u0027a\u0027)\n(40, \u0027d\u0027)\n(60, \u0027c\u0027)\n"
          ],
          "output_type": "stream"
        }
      ],
      "source": "from queue import PriorityQueue\n\nq \u003d PriorityQueue()\nq.put((30, \u0027a\u0027))\nq.put((20, \u0027b\u0027))\nq.put((60, \u0027c\u0027))\nq.put((40, \u0027d\u0027))\n\nprint(q)\n\nprint(q.get())\nprint(q.get())\nprint(q.get())\nprint(q.get())\n",
      "metadata": {
        "pycharm": {
          "metadata": false,
          "name": "#%%\n",
          "is_executing": false
        }
      }
    },
    {
      "cell_type": "markdown",
      "source": "### Comprehensions\n",
      "metadata": {
        "pycharm": {
          "metadata": false,
          "name": "#%% md\n"
        }
      }
    },
    {
      "cell_type": "code",
      "execution_count": 22,
      "outputs": [
        {
          "name": "stdout",
          "text": [
            "[0, 2, 4, 6, 8, 10, 12, 14, 16, 18]\n[0, 4, 8, 12, 16]\n[0, \u0027a\u0027, 2, \u0027a\u0027, 4, \u0027a\u0027, 6, \u0027a\u0027, 8, \u0027a\u0027]\n[0, \u0027b\u0027, \u0027b\u0027, \u0027b\u0027, \u0027b\u0027]\n[None, \u0027ab\u0027, None]\n[\u0027val-0\u0027, \u0027non-zero\u0027, \u0027non-zero\u0027]\n{0, 1, 2, 3, 4, 5, 6, 7, 8, 9}\n{0, 1}\n{\u0027a\u0027: 0, \u0027b\u0027: 1, \u0027c\u0027: 2, \u0027d\u0027: 3}\n{\u0027a\u0027: 0, \u0027c\u0027: 2}\n"
          ],
          "output_type": "stream"
        }
      ],
      "source": "# List Comprehensions\na \u003d [x * 2 for x in range(10)]\nprint(a)\n\na \u003d [i * 2 for i in range(10) if i % 2 \u003d\u003d 0]\nprint(a)\n\na \u003d [i if i % 2 \u003d\u003d 0 else \u0027a\u0027 for i in range(10)]\nprint(a)\n\na \u003d [i if i \u003d\u003d 0 else \u0027b\u0027 for i in range(10) if i % 2 \u003d\u003d 0]\nprint(a)\n\na \u003d [i if i[1] \u003d\u003d \u0027b\u0027 else None for i in [\u0027aa\u0027, \u0027ab\u0027, \u0027ac\u0027, \u0027bb\u0027] if i.startswith(\u0027a\u0027)]\nprint(a)\n\nstr_list \u003d [\u0027inv-0\u0027, \u0027inv-1\u0027, \u0027inv-2\u0027, \u0027val-0\u0027, \u0027val-1\u0027, \u0027val-2\u0027]\na \u003d [i if int(i[-1]) \u003d\u003d 0 else \u0027non-zero\u0027 for i in str_list if i.startswith(\u0027val\u0027)]\nprint(a)\n\n# Sets\na \u003d {i for i in range(10)}\nprint(a)\n\na \u003d {i for i in [0, 0, 1, 1]}\nprint(a)\n\n# Dicts\n\nnames \u003d [\u0027a\u0027, \u0027b\u0027, \u0027c\u0027, \u0027d\u0027]\nnums \u003d [0, 1, 2, 3]\n\na \u003d {i[0]: i[1] for i in zip(names, nums)}\nprint(a)\n\na \u003d {i[0]: i[1] for i in zip(names, nums) if i[1] % 2 \u003d\u003d 0}\nprint(a)\n",
      "metadata": {
        "pycharm": {
          "metadata": false,
          "name": "#%%\n",
          "is_executing": false
        }
      }
    },
    {
      "cell_type": "markdown",
      "source": "### List Slicing",
      "metadata": {
        "pycharm": {
          "metadata": false,
          "name": "#%% md\n"
        }
      }
    },
    {
      "cell_type": "code",
      "execution_count": 41,
      "outputs": [
        {
          "name": "stdout",
          "text": [
            "[1, 3]\n[1, 2, 3]\n[0, 2, 4, 6]\n[6, 5, 4, 3, 2, 1, 0]\n[6, 5, 4, 3, 2, 1, 0]\n4571729352\n[0, 1, 2, 3, 4, 5, 6]\n[]\n4571729352\n4568597320\n4568597320\n"
          ],
          "output_type": "stream"
        }
      ],
      "source": "\na \u003d [0, 1, 2, 3, 4, 5, 6]\nprint(a[1:4:2])\nprint(a[1:4])\nprint(a[::2])\nprint(a[::-1])\nprint(list(reversed(a)))\n\nprint(id(a))\n# Deletes all elements from the list. Object address is still same\nprint(a[:])\ndel a[:]\nprint(a[:])\nprint(id(a))\na \u003d []\n# New object, destroys previous references\nprint(id(a))\na.clear()\n# Same thing for Python3\nprint(id(a))\n",
      "metadata": {
        "pycharm": {
          "metadata": false,
          "name": "#%%\n",
          "is_executing": false
        }
      }
    },
    {
      "cell_type": "code",
      "execution_count": 47,
      "outputs": [
        {
          "name": "stdout",
          "text": [
            "4568496712\n4568496712\nTrue\n[\u0027a\u0027, \u0027b\u0027, \u0027c\u0027]\n[\u0027a\u0027, \u0027b\u0027, \u0027c\u0027]\n4568496712\n4568496712\nTrue\n[\u0027a\u0027, \u0027b\u0027, \u0027c\u0027]\n4568496712\n4568496712\n4571780744\n"
          ],
          "output_type": "stream"
        }
      ],
      "source": "c \u003d [0, 1, 2, 3, 4]\nd \u003d c\n\nprint(id(c))\nprint(id(d))\n\nprint(c is d)\n\nc[:] \u003d [\u0027a\u0027, \u0027b\u0027, \u0027c\u0027]\n\nprint(c)\nprint(d)\n\nprint(id(c))\nprint(id(d))\n\nprint(c is d)\n\nf \u003d c[:]\nprint(f)\n\nprint(id(c))\nprint(id(d))\nprint(id(f))\n",
      "metadata": {
        "pycharm": {
          "metadata": false,
          "name": "#%%\n",
          "is_executing": false
        }
      }
    },
    {
      "cell_type": "code",
      "execution_count": null,
      "outputs": [],
      "source": "\n",
      "metadata": {
        "pycharm": {
          "metadata": false,
          "name": "#%%\n"
        }
      }
    }
  ],
  "metadata": {
    "language_info": {
      "codemirror_mode": {
        "name": "ipython",
        "version": 2
      },
      "file_extension": ".py",
      "mimetype": "text/x-python",
      "name": "python",
      "nbconvert_exporter": "python",
      "pygments_lexer": "ipython2",
      "version": "2.7.6"
    },
    "kernelspec": {
      "name": "python3",
      "language": "python",
      "display_name": "Python 3"
    },
    "stem_cell": {
      "cell_type": "raw",
      "source": "",
      "metadata": {
        "pycharm": {
          "metadata": false
        }
      }
    }
  },
  "nbformat": 4,
  "nbformat_minor": 0
}