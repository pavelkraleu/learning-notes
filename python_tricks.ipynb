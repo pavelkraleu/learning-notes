{
  "cells": [
    {
      "cell_type": "markdown",
      "source": "\n### Asserts\n\nAsserts can be globally disabled with an interpreter settings\nThey shouldn\u0027t be used for security checks etc.\n\n---\n\n### Lists\n\nChanges look better in commits with lists in separate lines.\nAlso put comma behind last item to make it easier to add new items.\n",
      "metadata": {
        "pycharm": {
          "metadata": false
        }
      }
    },
    {
      "cell_type": "markdown",
      "source": "This is better",
      "metadata": {
        "pycharm": {
          "metadata": false
        }
      }
    },
    {
      "cell_type": "code",
      "execution_count": null,
      "outputs": [],
      "source": "names \u003d [\n    \u0027bob\u0027,\n    \u0027john\u0027,\n    \u0027robert\u0027,\n]",
      "metadata": {
        "pycharm": {
          "metadata": false,
          "name": "#%%\n"
        }
      }
    },
    {
      "cell_type": "markdown",
      "source": "Than this",
      "metadata": {
        "pycharm": {
          "metadata": false
        }
      }
    },
    {
      "cell_type": "code",
      "execution_count": null,
      "outputs": [],
      "source": "names \u003d [\u0027bob\u0027,\u0027john\u0027,\u0027robert\u0027]",
      "metadata": {
        "pycharm": {
          "metadata": false,
          "name": "#%%\n"
        }
      }
    },
    {
      "cell_type": "markdown",
      "source": "And this",
      "metadata": {
        "pycharm": {
          "metadata": false
        }
      }
    },
    {
      "cell_type": "code",
      "execution_count": null,
      "outputs": [],
      "source": "names \u003d [\n    \u0027bob\u0027,\n    \u0027john\u0027,\n    \u0027robert\u0027\n]",
      "metadata": {
        "pycharm": {
          "metadata": false,
          "name": "#%%\n"
        }
      }
    },
    {
      "cell_type": "markdown",
      "source": "--- \n### Context managers\n\nContext managers are classes with `__enter__` and `__exit__`.",
      "metadata": {
        "pycharm": {
          "metadata": false
        }
      }
    },
    {
      "cell_type": "code",
      "execution_count": 27,
      "outputs": [],
      "source": "\nclass ContextManager:\n    \n    def __enter__(self):\n        print(\u0027enter\u0027)\n        \n    def __exit__(self, exc_type, exc_val, exc_tb):\n        print(\u0027exit\u0027)\n     ",
      "metadata": {
        "pycharm": {
          "metadata": false,
          "name": "#%%\n",
          "is_executing": false
        }
      }
    },
    {
      "cell_type": "code",
      "execution_count": 28,
      "outputs": [
        {
          "name": "stdout",
          "text": [
            "enter\nhello\nexit\n"
          ],
          "output_type": "stream"
        }
      ],
      "source": "with ContextManager():\n    print(\u0027hello\u0027)",
      "metadata": {
        "pycharm": {
          "metadata": false,
          "name": "#%%   \n",
          "is_executing": false
        }
      }
    },
    {
      "cell_type": "code",
      "execution_count": 29,
      "outputs": [
        {
          "name": "stdout",
          "text": [
            "enter\nexit\n"
          ],
          "output_type": "stream"
        },
        {
          "traceback": [
            "\u001b[0;31m---------------------------------------------------------------------------\u001b[0m",
            "\u001b[0;31mValueError\u001b[0m                                Traceback (most recent call last)",
            "\u001b[0;32m\u003cipython-input-29-94653a1ce492\u003e\u001b[0m in \u001b[0;36m\u003cmodule\u003e\u001b[0;34m\u001b[0m\n\u001b[1;32m      1\u001b[0m \u001b[0;32mwith\u001b[0m \u001b[0mContextManager\u001b[0m\u001b[0;34m(\u001b[0m\u001b[0;34m)\u001b[0m\u001b[0;34m:\u001b[0m\u001b[0;34m\u001b[0m\u001b[0;34m\u001b[0m\u001b[0m\n\u001b[0;32m----\u003e 2\u001b[0;31m     \u001b[0;32mraise\u001b[0m \u001b[0mValueError\u001b[0m\u001b[0;34m\u001b[0m\u001b[0;34m\u001b[0m\u001b[0m\n\u001b[0m",
            "\u001b[0;31mValueError\u001b[0m: "
          ],
          "ename": "ValueError",
          "evalue": "",
          "output_type": "error"
        }
      ],
      "source": "with ContextManager():\n    raise ValueError",
      "metadata": {
        "pycharm": {
          "metadata": false,
          "name": "#%%\n",
          "is_executing": false
        }
      }
    },
    {
      "cell_type": "markdown",
      "source": "--- \n\n### Underscores\n\n### `_var` - Single leading underscore  \nPrivate variable. This is just a convention (in PEP8)  \nPython will not import import modules with leading underscores automatically.\nUnless defined in `__all__`\n\n### `var_` - Single trailing underscore  \nIf is variable name is already taken, use this.\n`set_`,`class_`,`dict_` etc.\nThis is just a convention.\n\n### `__var` - Double leading underscore  \nUsed for name mangling.  \nInterpreter changes this name to something else, to prevent collision when extended.\n ",
      "metadata": {
        "pycharm": {
          "metadata": false,
          "name": "#%% md\n"
        }
      }
    },
    {
      "cell_type": "code",
      "execution_count": 26,
      "outputs": [
        {
          "name": "stdout",
          "text": [
            "[\u0027_TestA__a\u0027, \u0027__class__\u0027, \u0027__delattr__\u0027, \u0027__dict__\u0027, \u0027__dir__\u0027, \u0027__doc__\u0027, \u0027__eq__\u0027, \u0027__format__\u0027, \u0027__ge__\u0027, \u0027__getattribute__\u0027, \u0027__gt__\u0027, \u0027__hash__\u0027, \u0027__init__\u0027, \u0027__init_subclass__\u0027, \u0027__le__\u0027, \u0027__lt__\u0027, \u0027__module__\u0027, \u0027__ne__\u0027, \u0027__new__\u0027, \u0027__reduce__\u0027, \u0027__reduce_ex__\u0027, \u0027__repr__\u0027, \u0027__setattr__\u0027, \u0027__sizeof__\u0027, \u0027__str__\u0027, \u0027__subclasshook__\u0027, \u0027__weakref__\u0027, \u0027_a\u0027, \u0027a\u0027, \u0027do_something\u0027]\n1\n1\n1\n[\u0027_TestA__a\u0027, \u0027_TestB__a\u0027, \u0027__class__\u0027, \u0027__delattr__\u0027, \u0027__dict__\u0027, \u0027__dir__\u0027, \u0027__doc__\u0027, \u0027__eq__\u0027, \u0027__format__\u0027, \u0027__ge__\u0027, \u0027__getattribute__\u0027, \u0027__gt__\u0027, \u0027__hash__\u0027, \u0027__init__\u0027, \u0027__init_subclass__\u0027, \u0027__le__\u0027, \u0027__lt__\u0027, \u0027__module__\u0027, \u0027__ne__\u0027, \u0027__new__\u0027, \u0027__reduce__\u0027, \u0027__reduce_ex__\u0027, \u0027__repr__\u0027, \u0027__setattr__\u0027, \u0027__sizeof__\u0027, \u0027__str__\u0027, \u0027__subclasshook__\u0027, \u0027__weakref__\u0027, \u0027_a\u0027, \u0027a\u0027, \u0027do_something\u0027]\n3\n3\n1\n"
          ],
          "output_type": "stream"
        }
      ],
      "source": "class TestA:\n    def __init__(self):\n        self.a \u003d 1\n        self._a \u003d 1\n        self.__a \u003d 1\n        \n    def do_something(self):\n        print(self.a)\n        print(self._a)\n        print(self.__a)\n        \ntsta \u003d TestA()\nprint(dir(tsta))\ntsta.do_something()\n\n# print(tsta.a)\n# print(tsta._a)\n# print(tsta.__a)\n# This explodes -\u003e __a is not here\n\nclass TestB(TestA):\n    def __init__(self):\n        \n        super().__init__()\n        \n        self.a \u003d 3\n        self._a \u003d 3\n        self.__a \u003d 3\n\ntstb \u003d TestB()\nprint(dir(tstb))\ntstb.do_something()\n",
      "metadata": {
        "pycharm": {
          "metadata": false,
          "name": "#%%\n",
          "is_executing": false
        }
      }
    },
    {
      "cell_type": "markdown",
      "source": "\n### `__var__` - Double leading and training underscores  \n\n### `_` - Single underscore  ",
      "metadata": {
        "pycharm": {
          "metadata": false,
          "name": "#%% md\n"
        }
      }
    }
  ],
  "metadata": {
    "language_info": {
      "codemirror_mode": {
        "name": "ipython",
        "version": 2
      },
      "file_extension": ".py",
      "mimetype": "text/x-python",
      "name": "python",
      "nbconvert_exporter": "python",
      "pygments_lexer": "ipython2",
      "version": "2.7.6"
    },
    "kernelspec": {
      "name": "python2",
      "language": "python",
      "display_name": "Python 2"
    },
    "stem_cell": {
      "cell_type": "raw",
      "source": "",
      "metadata": {
        "pycharm": {
          "metadata": false
        }
      }
    }
  },
  "nbformat": 4,
  "nbformat_minor": 0
}