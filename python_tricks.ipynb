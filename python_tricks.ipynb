{
  "cells": [
    {
      "cell_type": "markdown",
      "source": "\n### Asserts\n\nAsserts can be globally disabled with an interpreter settings\nThey shouldn\u0027t be used for security checks etc.\n\n---\n\n### Lists\n\nChanges look better in commits with lists in separate lines.\nAlso put comma behind last item to make it easier to add new items.\n",
      "metadata": {
        "pycharm": {
          "metadata": false
        }
      }
    },
    {
      "cell_type": "markdown",
      "source": "This is better",
      "metadata": {
        "pycharm": {
          "metadata": false
        }
      }
    },
    {
      "cell_type": "code",
      "execution_count": null,
      "outputs": [],
      "source": "names \u003d [\n    \u0027bob\u0027,\n    \u0027john\u0027,\n    \u0027robert\u0027,\n]",
      "metadata": {
        "pycharm": {
          "metadata": false,
          "name": "#%%\n"
        }
      }
    },
    {
      "cell_type": "markdown",
      "source": "Than this",
      "metadata": {
        "pycharm": {
          "metadata": false
        }
      }
    },
    {
      "cell_type": "code",
      "execution_count": null,
      "outputs": [],
      "source": "names \u003d [\u0027bob\u0027,\u0027john\u0027,\u0027robert\u0027]",
      "metadata": {
        "pycharm": {
          "metadata": false,
          "name": "#%%\n"
        }
      }
    },
    {
      "cell_type": "markdown",
      "source": "And this",
      "metadata": {
        "pycharm": {
          "metadata": false
        }
      }
    },
    {
      "cell_type": "code",
      "execution_count": null,
      "outputs": [],
      "source": "names \u003d [\n    \u0027bob\u0027,\n    \u0027john\u0027,\n    \u0027robert\u0027\n]",
      "metadata": {
        "pycharm": {
          "metadata": false,
          "name": "#%%\n"
        }
      }
    },
    {
      "cell_type": "markdown",
      "source": "--- \n### Context managers\n\nContext managers are classes with `__enter__` and `__exit__`.",
      "metadata": {
        "pycharm": {
          "metadata": false
        }
      }
    },
    {
      "cell_type": "code",
      "execution_count": 27,
      "outputs": [],
      "source": "\nclass ContextManager:\n    \n    def __enter__(self):\n        print(\u0027enter\u0027)\n        \n    def __exit__(self, exc_type, exc_val, exc_tb):\n        print(\u0027exit\u0027)\n     ",
      "metadata": {
        "pycharm": {
          "metadata": false,
          "name": "#%%\n",
          "is_executing": false
        }
      }
    },
    {
      "cell_type": "code",
      "execution_count": 28,
      "outputs": [
        {
          "name": "stdout",
          "text": [
            "enter\nhello\nexit\n"
          ],
          "output_type": "stream"
        }
      ],
      "source": "with ContextManager():\n    print(\u0027hello\u0027)",
      "metadata": {
        "pycharm": {
          "metadata": false,
          "name": "#%%   \n",
          "is_executing": false
        }
      }
    },
    {
      "cell_type": "code",
      "execution_count": 29,
      "outputs": [
        {
          "name": "stdout",
          "text": [
            "enter\nexit\n"
          ],
          "output_type": "stream"
        },
        {
          "traceback": [
            "\u001b[0;31m---------------------------------------------------------------------------\u001b[0m",
            "\u001b[0;31mValueError\u001b[0m                                Traceback (most recent call last)",
            "\u001b[0;32m\u003cipython-input-29-94653a1ce492\u003e\u001b[0m in \u001b[0;36m\u003cmodule\u003e\u001b[0;34m\u001b[0m\n\u001b[1;32m      1\u001b[0m \u001b[0;32mwith\u001b[0m \u001b[0mContextManager\u001b[0m\u001b[0;34m(\u001b[0m\u001b[0;34m)\u001b[0m\u001b[0;34m:\u001b[0m\u001b[0;34m\u001b[0m\u001b[0;34m\u001b[0m\u001b[0m\n\u001b[0;32m----\u003e 2\u001b[0;31m     \u001b[0;32mraise\u001b[0m \u001b[0mValueError\u001b[0m\u001b[0;34m\u001b[0m\u001b[0;34m\u001b[0m\u001b[0m\n\u001b[0m",
            "\u001b[0;31mValueError\u001b[0m: "
          ],
          "ename": "ValueError",
          "evalue": "",
          "output_type": "error"
        }
      ],
      "source": "with ContextManager():\n    raise ValueError",
      "metadata": {
        "pycharm": {
          "metadata": false,
          "name": "#%%\n",
          "is_executing": false
        }
      }
    },
    {
      "cell_type": "markdown",
      "source": "--- \n\n### Underscores\n\n### `_var` - Single leading underscore  \nPrivate variable. This is just a convention (in PEP8)  \nPython will not import import modules with leading underscores automatically.\nUnless defined in `__all__`\n\n### `var_` - Single trailing underscore  \nIf is variable name is already taken, use this.\n`set_`,`class_`,`dict_` etc.\nThis is just a convention.\n\n### `__var` - Double leading underscore  \nUsed for name mangling.  \nInterpreter changes this name to something else, to prevent collision when extended.\n ",
      "metadata": {
        "pycharm": {
          "metadata": false,
          "name": "#%% md\n"
        }
      }
    },
    {
      "cell_type": "code",
      "execution_count": 1,
      "outputs": [
        {
          "name": "stdout",
          "text": [
            "[\u0027_TestA__a\u0027, \u0027__class__\u0027, \u0027__delattr__\u0027, \u0027__dict__\u0027, \u0027__dir__\u0027, \u0027__doc__\u0027, \u0027__eq__\u0027, \u0027__format__\u0027, \u0027__ge__\u0027, \u0027__getattribute__\u0027, \u0027__gt__\u0027, \u0027__hash__\u0027, \u0027__init__\u0027, \u0027__init_subclass__\u0027, \u0027__le__\u0027, \u0027__lt__\u0027, \u0027__module__\u0027, \u0027__ne__\u0027, \u0027__new__\u0027, \u0027__reduce__\u0027, \u0027__reduce_ex__\u0027, \u0027__repr__\u0027, \u0027__setattr__\u0027, \u0027__sizeof__\u0027, \u0027__str__\u0027, \u0027__subclasshook__\u0027, \u0027__weakref__\u0027, \u0027_a\u0027, \u0027a\u0027, \u0027do_something\u0027]\n1\n1\n1\n[\u0027_TestA__a\u0027, \u0027_TestB__a\u0027, \u0027__class__\u0027, \u0027__delattr__\u0027, \u0027__dict__\u0027, \u0027__dir__\u0027, \u0027__doc__\u0027, \u0027__eq__\u0027, \u0027__format__\u0027, \u0027__ge__\u0027, \u0027__getattribute__\u0027, \u0027__gt__\u0027, \u0027__hash__\u0027, \u0027__init__\u0027, \u0027__init_subclass__\u0027, \u0027__le__\u0027, \u0027__lt__\u0027, \u0027__module__\u0027, \u0027__ne__\u0027, \u0027__new__\u0027, \u0027__reduce__\u0027, \u0027__reduce_ex__\u0027, \u0027__repr__\u0027, \u0027__setattr__\u0027, \u0027__sizeof__\u0027, \u0027__str__\u0027, \u0027__subclasshook__\u0027, \u0027__weakref__\u0027, \u0027_a\u0027, \u0027a\u0027, \u0027do_something\u0027]\n3\n3\n1\n"
          ],
          "output_type": "stream"
        }
      ],
      "source": "class TestA:\n    def __init__(self):\n        self.a \u003d 1\n        self._a \u003d 1\n        self.__a \u003d 1\n        \n    def do_something(self):\n        print(self.a)\n        print(self._a)\n        print(self.__a)\n        \ntsta \u003d TestA()\nprint(dir(tsta))\ntsta.do_something()\n\n# print(tsta.a)\n# print(tsta._a)\n# print(tsta.__a)\n# This explodes -\u003e __a is not here\n\nclass TestB(TestA):\n    def __init__(self):\n        \n        super().__init__()\n        \n        self.a \u003d 3\n        self._a \u003d 3\n        self.__a \u003d 3\n\ntstb \u003d TestB()\nprint(dir(tstb))\ntstb.do_something()\n",
      "metadata": {
        "pycharm": {
          "metadata": false,
          "name": "#%%\n",
          "is_executing": false
        }
      }
    },
    {
      "cell_type": "markdown",
      "source": "\n### `__var__` - Double leading and training underscores - \u0027Magic\u0027 methods \n\n### `_` - Single underscore - Unused variable\n\n--- \n\n### String formatting\n\n#### Old string formatting\n\nIsn\u0027t deprecated, but should be avoided\n",
      "metadata": {
        "pycharm": {
          "metadata": false,
          "name": "#%% md\n"
        }
      }
    },
    {
      "cell_type": "code",
      "execution_count": 2,
      "outputs": [
        {
          "name": "stdout",
          "text": [
            "Hello John\n"
          ],
          "output_type": "stream"
        }
      ],
      "source": "\nname \u003d \u0027John\u0027\nprint(\u0027Hello %s\u0027 % name)\n",
      "metadata": {
        "pycharm": {
          "metadata": false,
          "name": "#%%\n",
          "is_executing": false
        }
      }
    },
    {
      "cell_type": "markdown",
      "source": "\n#### New string formatting\n\nBetter than \u0027Old string\u0027\n",
      "metadata": {
        "pycharm": {
          "metadata": false,
          "name": "#%% md\n"
        }
      }
    },
    {
      "cell_type": "code",
      "execution_count": 1,
      "outputs": [
        {
          "name": "stdout",
          "text": [
            "Hello John\n"
          ],
          "output_type": "stream"
        }
      ],
      "source": "\nname \u003d \u0027John\u0027\nprint(\u0027Hello {}\u0027.format(name))\n",
      "metadata": {
        "pycharm": {
          "metadata": false,
          "name": "#%%\n",
          "is_executing": false
        }
      }
    },
    {
      "cell_type": "markdown",
      "source": "\n#### Literal string interpolation\n\nThis should be used.\nIt is usually faster than just `\u0027Hello \u0027+ name`\n",
      "metadata": {
        "pycharm": {
          "metadata": false,
          "name": "#%% md\n"
        }
      }
    },
    {
      "cell_type": "code",
      "execution_count": 2,
      "outputs": [
        {
          "name": "stdout",
          "text": [
            "Hello John\n"
          ],
          "output_type": "stream"
        }
      ],
      "source": "\nname \u003d \u0027John\u0027\nprint(f\u0027Hello {name}\u0027)\n",
      "metadata": {
        "pycharm": {
          "metadata": false,
          "name": "#%%\n",
          "is_executing": false
        }
      }
    },
    {
      "cell_type": "markdown",
      "source": "\n#### Template strings\n\nUseful when handling \u0027untrusted\u0027 input from users\n",
      "metadata": {
        "pycharm": {
          "metadata": false,
          "name": "#%% md\n"
        }
      }
    },
    {
      "cell_type": "code",
      "execution_count": 3,
      "outputs": [
        {
          "data": {
            "text/plain": "\u0027Hello John\u0027"
          },
          "metadata": {},
          "output_type": "execute_result",
          "execution_count": 3
        }
      ],
      "source": "from string import Template\n\nname \u003d \u0027John\u0027\n\ntem \u003d Template(\u0027Hello $name\u0027)\ntem.substitute(name\u003dname)\n",
      "metadata": {
        "pycharm": {
          "metadata": false,
          "name": "#%%\n",
          "is_executing": false
        }
      }
    },
    {
      "cell_type": "markdown",
      "source": "\nHow untrusted string from user can expose secrets \n",
      "metadata": {
        "pycharm": {
          "metadata": false,
          "name": "#%% md\n"
        }
      }
    },
    {
      "cell_type": "code",
      "execution_count": 4,
      "outputs": [
        {
          "name": "stdout",
          "text": [
            "SECRET\n"
          ],
          "output_type": "stream"
        }
      ],
      "source": "\nclass Car:\n    \n    car_secret_key \u003d \u0027SECRET\u0027\n    \n    def __init__(self):\n        pass\n\nblue_car \u003d Car()\n\nstring_from_evil_user \u003d \u0027{car.car_secret_key}\u0027\n\nprint(string_from_evil_user.format(car\u003dblue_car))\n",
      "metadata": {
        "pycharm": {
          "metadata": false,
          "name": "#%%\n",
          "is_executing": false
        }
      }
    },
    {
      "cell_type": "markdown",
      "source": "\n--- \n\n### Functions\n\nFunctions that can accept other functions are called higher-order functions\n",
      "metadata": {
        "pycharm": {
          "metadata": false,
          "name": "#%% md\n"
        }
      }
    },
    {
      "cell_type": "code",
      "execution_count": 6,
      "outputs": [
        {
          "name": "stdout",
          "text": [
            "\u003cfunction get_car_func.\u003clocals\u003e.red at 0x1073dfb70\u003e\nRed BMW\n"
          ],
          "output_type": "stream"
        }
      ],
      "source": "\ndef get_car_func(color):\n    \n    def red(brand):\n        return f\u0027Red {brand}\u0027\n    \n    def blue(brand):\n        return f\u0027Blue {brand}\u0027\n    \n    if color \u003d\u003d \u0027red\u0027:\n        return red\n    else:\n        return blue\n    \nprint(get_car_func(\u0027red\u0027))\n\ncar_fce \u003d get_car_func(\u0027red\u0027)\n\nprint(car_fce(\u0027BMW\u0027))\n",
      "metadata": {
        "pycharm": {
          "metadata": false,
          "name": "#%%\n",
          "is_executing": false
        }
      }
    },
    {
      "cell_type": "markdown",
      "source": "\nReturned function can still access the upper scope.\nThis is called \u0027Lexical closure\u0027\n",
      "metadata": {
        "pycharm": {
          "metadata": false,
          "name": "#%% md\n"
        }
      }
    },
    {
      "cell_type": "code",
      "execution_count": 11,
      "outputs": [
        {
          "name": "stdout",
          "text": [
            "RED Red BMW\nOTHER Blue BMW\n"
          ],
          "output_type": "stream"
        }
      ],
      "source": "\ndef get_car_func(color):\n    \n    def red(brand):\n        return f\u0027RED {color.capitalize()} {brand}\u0027\n    \n    def other(brand):\n        return f\u0027OTHER {color.capitalize()} {brand}\u0027\n    \n    if color \u003d\u003d \u0027red\u0027:\n        return red\n    else:\n        return other\n\n\na \u003d get_car_func(\u0027red\u0027)\nprint(a(\u0027BMW\u0027))\n\nb \u003d get_car_func(\u0027blue\u0027)\nprint(b(\u0027BMW\u0027))\n\n",
      "metadata": {
        "pycharm": {
          "metadata": false,
          "name": "#%%\n",
          "is_executing": false
        }
      }
    },
    {
      "cell_type": "markdown",
      "source": "\n### Decorators\n\nSimplest decorator :\n",
      "metadata": {
        "pycharm": {
          "metadata": false,
          "name": "#%% md\n"
        }
      }
    },
    {
      "cell_type": "code",
      "execution_count": 3,
      "outputs": [
        {
          "data": {
            "text/plain": "\u0027John\u0027"
          },
          "metadata": {},
          "output_type": "execute_result",
          "execution_count": 3
        }
      ],
      "source": "\ndef null_decorator(func):\n    return func\n\ndef say_name():\n    return \u0027John\u0027\n\nname \u003d null_decorator(say_name)\n\nname()\n",
      "metadata": {
        "pycharm": {
          "metadata": false,
          "name": "#%%\n",
          "is_executing": false
        }
      }
    },
    {
      "cell_type": "markdown",
      "source": "\nMethod can be permanently decorated with `@`\n",
      "metadata": {
        "pycharm": {
          "metadata": false,
          "name": "#%% md\n"
        }
      }
    },
    {
      "cell_type": "code",
      "execution_count": 2,
      "outputs": [
        {
          "data": {
            "text/plain": "\u0027John\u0027"
          },
          "metadata": {},
          "output_type": "execute_result",
          "execution_count": 2
        }
      ],
      "source": "\ndef null_decorator(func):\n    return func\n\n@null_decorator\ndef say_name():\n    return \u0027John\u0027\n\nsay_name()\n",
      "metadata": {
        "pycharm": {
          "metadata": false,
          "name": "#%%\n",
          "is_executing": false
        }
      }
    },
    {
      "cell_type": "markdown",
      "source": "\nMore complicated decorator\n",
      "metadata": {
        "pycharm": {
          "metadata": false,
          "name": "#%% md\n"
        }
      }
    },
    {
      "cell_type": "code",
      "execution_count": 4,
      "outputs": [
        {
          "data": {
            "text/plain": "\u0027Little John\u0027"
          },
          "metadata": {},
          "output_type": "execute_result",
          "execution_count": 4
        }
      ],
      "source": "\ndef title_decorator(func):\n    \n    def wrapper():\n        original_result \u003d func()\n        new_result \u003d original_result.title()\n        \n        return new_result\n    \n    return wrapper\n\n@title_decorator\ndef say_name():\n    return \u0027little john\u0027\n\nsay_name()",
      "metadata": {
        "pycharm": {
          "metadata": false,
          "name": "#%%\n",
          "is_executing": false
        }
      }
    },
    {
      "cell_type": "markdown",
      "source": "\nDecorators are applied from bottom to top\n",
      "metadata": {
        "pycharm": {
          "metadata": false,
          "name": "#%% md\n"
        }
      }
    },
    {
      "cell_type": "code",
      "execution_count": 5,
      "outputs": [
        {
          "data": {
            "text/plain": "\u0027bb_aa_little john_aa_bb\u0027"
          },
          "metadata": {},
          "output_type": "execute_result",
          "execution_count": 5
        }
      ],
      "source": "\ndef aa_decorator(func):\n    \n    def wrapper():\n        return f\u0027aa_{func()}_aa\u0027\n    \n    return wrapper\n\n\ndef bb_decorator(func):\n    \n    def wrapper():\n        return f\u0027bb_{func()}_bb\u0027\n    \n    return wrapper\n\n@bb_decorator\n@aa_decorator\ndef say_name():\n    return \u0027little john\u0027\n\nsay_name()\n",
      "metadata": {
        "pycharm": {
          "metadata": false,
          "name": "#%%\n",
          "is_executing": false
        }
      }
    },
    {
      "cell_type": "markdown",
      "source": "\nThis also means that deep levels of decorator stacking weill eventually have an effect on performance\n\n#### kwargs + args\n",
      "metadata": {
        "pycharm": {
          "metadata": false,
          "name": "#%% md\n"
        }
      }
    },
    {
      "cell_type": "code",
      "execution_count": 8,
      "outputs": [
        {
          "name": "stdout",
          "text": [
            "say_name called with () and {}\nsay_name called with (\u0027hello\u0027,) and {}\nsay_name called with (\u0027hello\u0027,) and {\u0027name\u0027: \u0027bean\u0027}\n"
          ],
          "output_type": "stream"
        },
        {
          "data": {
            "text/plain": "\u0027aa_little john_aa\u0027"
          },
          "metadata": {},
          "output_type": "execute_result",
          "execution_count": 8
        }
      ],
      "source": "\ndef aa_decorator(func):\n    \n    def wrapper(*args, **kwargs):\n        \n        print(f\u0027{func.__name__} called with {args} and {kwargs}\u0027)\n        \n        return f\u0027aa_{func()}_aa\u0027\n    \n    return wrapper\n\n# This can be useful for debugging\n@aa_decorator\ndef say_name():\n    return \u0027little john\u0027\n\nsay_name()\nsay_name(\u0027hello\u0027)\nsay_name(\u0027hello\u0027, name\u003d\u0027bean\u0027)\n",
      "metadata": {
        "pycharm": {
          "metadata": false,
          "name": "#%%\n",
          "is_executing": false
        }
      }
    },
    {
      "cell_type": "markdown",
      "source": "\nDecorating function hides some data of the original function\n",
      "metadata": {
        "pycharm": {
          "metadata": false,
          "name": "#%% md\n"
        }
      }
    },
    {
      "cell_type": "code",
      "execution_count": 12,
      "outputs": [
        {
          "name": "stdout",
          "text": [
            "hello\nThis just says hello\nwrapper\nNone\n"
          ],
          "output_type": "stream"
        }
      ],
      "source": "\ndef hello():\n    \"\"\"This just says hello\"\"\"\n    \n    return \"Hello\"\n\nprint(hello.__name__)\nprint(hello.__doc__)\n\ndecorated_hello \u003d aa_decorator(hello)\n\nprint(decorated_hello.__name__)\nprint(decorated_hello.__doc__)\n",
      "metadata": {
        "pycharm": {
          "metadata": false,
          "name": "#%% \n",
          "is_executing": false
        }
      }
    },
    {
      "cell_type": "markdown",
      "source": "\nWhich can be fixed with `functools.wraps`.\nYou should use that :)\n",
      "metadata": {
        "pycharm": {
          "metadata": false,
          "name": "#%% md\n"
        }
      }
    },
    {
      "cell_type": "code",
      "execution_count": 20,
      "outputs": [
        {
          "name": "stdout",
          "text": [
            "hello\nThis just says hello\n"
          ],
          "output_type": "stream"
        }
      ],
      "source": "\nimport functools\n\ndef aa_decorator(func):\n    @functools.wraps(func)    \n    def wrapper(*args, **kwargs):\n        \n        print(f\u0027{func.__name__} called with {args} and {kwargs}\u0027)\n        \n        return f\u0027aa_{func()}_aa\u0027\n    \n    return wrapper\n\n@aa_decorator\ndef hello():\n    \"\"\"This just says hello\"\"\"\n    \n    return \"Hello\"\n\nprint(hello.__name__)\nprint(hello.__doc__)",
      "metadata": {
        "pycharm": {
          "metadata": false,
          "name": "#%%\n",
          "is_executing": false
        }
      }
    },
    {
      "cell_type": "markdown",
      "source": "\n### *args and **kwargs\n\nThis allows functions to accept optional arguments\n",
      "metadata": {
        "pycharm": {
          "metadata": false,
          "name": "#%% md\n"
        }
      }
    },
    {
      "cell_type": "code",
      "execution_count": 5,
      "outputs": [
        {
          "name": "stdout",
          "text": [
            "required\nrequired\nargs (1, 2)\nrequired\nargs (1, 2)\nkwargs {\u0027a\u0027: \u0027aaa\u0027, \u0027b\u0027: \u0027bb\u0027}\n"
          ],
          "output_type": "stream"
        }
      ],
      "source": "\ndef some_func(required_param, *args, **kwargs):\n    \n    print(required_param)\n    \n    if args:\n        print(f\u0027args {args}\u0027)\n        \n    if kwargs:\n        print(f\u0027kwargs {kwargs}\u0027)\n\n\nsome_func(\u0027required\u0027)\nsome_func(\u0027required\u0027,1,2)\nsome_func(\u0027required\u0027,1,2,a\u003d\u0027aaa\u0027, b\u003d\u0027bb\u0027)\n",
      "metadata": {
        "pycharm": {
          "metadata": false,
          "name": "#%% \n",
          "is_executing": false
        }
      }
    },
    {
      "cell_type": "markdown",
      "source": "\nThis can be used to pass parameters from one function to another\n",
      "metadata": {
        "pycharm": {
          "metadata": false,
          "name": "#%% md\n"
        }
      }
    },
    {
      "cell_type": "code",
      "execution_count": 5,
      "outputs": [
        {
          "name": "stdout",
          "text": [
            "required\n(1, 2)\n{\u0027a\u0027: \u0027aaa\u0027, \u0027b\u0027: \u0027bb\u0027}\nrequired\n(1, 2, \u0027aaa\u0027)\n{\u0027a\u0027: \u0027aaa\u0027, \u0027b\u0027: \u0027bb\u0027, \u0027something\u0027: \u0027else\u0027}\nred\n"
          ],
          "output_type": "stream"
        }
      ],
      "source": "\ndef some_other_func(required_param, *args, **kwargs):\n    \n    print(required_param)\n    print(args)\n    print(kwargs)\n\ndef some_func(required_param, *args, **kwargs):\n    \n    print(required_param)\n    print(args)\n    print(kwargs)\n    \n    kwargs[\u0027something\u0027] \u003d \u0027else\u0027\n    args +\u003d (\u0027aaa\u0027, )\n    \n    some_other_func(required_param, *args, **kwargs)\n    \n    \nsome_func(\u0027required\u0027,1,2,a\u003d\u0027aaa\u0027, b\u003d\u0027bb\u0027)\n",
      "metadata": {
        "pycharm": {
          "metadata": false,
          "name": "#%%\n",
          "is_executing": false
        }
      }
    },
    {
      "cell_type": "markdown",
      "source": "\n`Apple` passes all parameters to its parent. \nTherefore if `Fruit` significantly changes, `Apple` will be probably still working.\n",
      "metadata": {
        "pycharm": {
          "metadata": false,
          "name": "#%% md\n"
        }
      }
    },
    {
      "cell_type": "code",
      "execution_count": 6,
      "outputs": [
        {
          "name": "stdout",
          "text": [
            "red\n"
          ],
          "output_type": "stream"
        }
      ],
      "source": "class Fruit:\n    def __init__(self, color, size):\n        self.color \u003d color\n        self.size \u003d size\n        \nclass Apple(Fruit):\n    def __init__(self, *args, **kwargs):\n        super().__init__(*args, **kwargs)\n        \n        self.color \u003d \u0027red\u0027\n\napple \u003d Apple(\u0027blue\u0027, 100)\nprint(apple.color)\n\n\n",
      "metadata": {
        "pycharm": {
          "metadata": false,
          "name": "#%%\n",
          "is_executing": false
        }
      }
    },
    {
      "cell_type": "markdown",
      "source": "\n### Function argument unpacking\n\n",
      "metadata": {
        "pycharm": {
          "metadata": false,
          "name": "#%% md\n"
        }
      }
    }
  ],
  "metadata": {
    "language_info": {
      "codemirror_mode": {
        "name": "ipython",
        "version": 2
      },
      "file_extension": ".py",
      "mimetype": "text/x-python",
      "name": "python",
      "nbconvert_exporter": "python",
      "pygments_lexer": "ipython2",
      "version": "2.7.6"
    },
    "kernelspec": {
      "name": "python3",
      "language": "python",
      "display_name": "Python 3"
    },
    "stem_cell": {
      "cell_type": "raw",
      "source": "",
      "metadata": {
        "pycharm": {
          "metadata": false
        }
      }
    }
  },
  "nbformat": 4,
  "nbformat_minor": 0
}